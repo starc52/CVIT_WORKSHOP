{
  "nbformat": 4,
  "nbformat_minor": 0,
  "metadata": {
    "colab": {
      "name": "Copy of Perceptron Mnist.ipynb",
      "provenance": [],
      "collapsed_sections": []
    },
    "kernelspec": {
      "name": "python3",
      "display_name": "Python 3"
    }
  },
  "cells": [
    {
      "cell_type": "code",
      "metadata": {
        "id": "oOiMc9Jlf1Uu",
        "colab_type": "code",
        "colab": {}
      },
      "source": [
        "from keras.datasets import mnist\n",
        "\n",
        "(x_train, y_train), (x_test, y_test) = mnist.load_data()"
      ],
      "execution_count": 0,
      "outputs": []
    },
    {
      "cell_type": "code",
      "metadata": {
        "id": "0pd1iaB3hbXp",
        "colab_type": "code",
        "colab": {}
      },
      "source": [
        "import numpy as np"
      ],
      "execution_count": 0,
      "outputs": []
    },
    {
      "cell_type": "code",
      "metadata": {
        "id": "gwiP3YLzgmKl",
        "colab_type": "code",
        "outputId": "85ad3afb-6aac-4c26-ffb2-1f339e201834",
        "colab": {
          "base_uri": "https://localhost:8080/",
          "height": 51
        }
      },
      "source": [
        "print(\"Training data shape: \", x_train.shape) # (60000, 28, 28) -- 60000 images, each 28x28 pixels\n",
        "print(\"Test data shape\", x_test.shape) # (10000, 28, 28) -- 10000 images, each 28x28\n",
        "\n",
        "# Flatten the images\n",
        "image_vector_size = 28*28\n",
        "x_train = x_train.reshape(x_train.shape[0], image_vector_size)\n",
        "x_test = x_test.reshape(x_test.shape[0], image_vector_size)"
      ],
      "execution_count": 35,
      "outputs": [
        {
          "output_type": "stream",
          "text": [
            "Training data shape:  (60000, 28, 28)\n",
            "Test data shape (10000, 28, 28)\n"
          ],
          "name": "stdout"
        }
      ]
    },
    {
      "cell_type": "code",
      "metadata": {
        "id": "4ItrFUYEg7SI",
        "colab_type": "code",
        "outputId": "571a1a0e-6f8f-418c-c748-fafb93771003",
        "colab": {
          "base_uri": "https://localhost:8080/",
          "height": 51
        }
      },
      "source": [
        "print(\"Training data shape: \", x_train.shape) # (60000, 28, 28) -- 60000 images, each 28x28 pixels\n",
        "print(\"Test data shape\", x_test.shape) # (10000, 28, 28) -- 10000 images, each 28x28"
      ],
      "execution_count": 36,
      "outputs": [
        {
          "output_type": "stream",
          "text": [
            "Training data shape:  (60000, 784)\n",
            "Test data shape (10000, 784)\n"
          ],
          "name": "stdout"
        }
      ]
    },
    {
      "cell_type": "code",
      "metadata": {
        "id": "UJ_MWm4wg7ix",
        "colab_type": "code",
        "colab": {}
      },
      "source": [
        "# Function to extract the classes\n",
        "def extract_2classes(class0, class1, X, Y):\n",
        "    # Select class #0\n",
        "    X_0 = X[Y == class0]\n",
        "    Y_0 = Y[Y == class0]\n",
        "    # Select class #1\n",
        "    X_1 = X[Y == class1]\n",
        "    Y_1 = Y[Y == class1]\n",
        "    # Join the two classes to make the set\n",
        "    X_2classes = np.vstack((X_0, X_1))\n",
        "    Y_2classes = np.append(Y_0, Y_1)\n",
        "    return X_2classes, Y_2classes"
      ],
      "execution_count": 0,
      "outputs": []
    },
    {
      "cell_type": "code",
      "metadata": {
        "id": "fG-YcWSuhKI9",
        "colab_type": "code",
        "colab": {}
      },
      "source": [
        "X_train_2classes, Y_train_2classes = extract_2classes(5, 7, x_train, y_train)\n",
        "X_test_2classes, Y_test_2classes = extract_2classes(5, 7,x_test, y_test)"
      ],
      "execution_count": 0,
      "outputs": []
    },
    {
      "cell_type": "code",
      "metadata": {
        "id": "exespOWBjDx_",
        "colab_type": "code",
        "outputId": "7d837194-3ebb-4772-8afd-47b2eda85b73",
        "colab": {
          "base_uri": "https://localhost:8080/",
          "height": 51
        }
      },
      "source": [
        "print(\"Training data shape: \", X_train_2classes.shape) # (60000, 28, 28) -- 60000 images, each 28x28 pixels\n",
        "print(\"Test data shape\", X_test_2classes.shape) # (10000, 28, 28) -- 10000 images, each 28x28"
      ],
      "execution_count": 39,
      "outputs": [
        {
          "output_type": "stream",
          "text": [
            "Training data shape:  (11686, 784)\n",
            "Test data shape (1920, 784)\n"
          ],
          "name": "stdout"
        }
      ]
    },
    {
      "cell_type": "code",
      "metadata": {
        "id": "_qhlgfoEh3KP",
        "colab_type": "code",
        "colab": {}
      },
      "source": [
        "from sklearn.metrics import accuracy_score\n",
        "from sklearn.linear_model import Perceptron\n",
        "from sklearn.model_selection import KFold\n",
        "import matplotlib.pyplot as plt\n",
        "\n",
        "def predict(train_features,test_features,train_labels): \n",
        "    clf = Perceptron(tol=1e-3, random_state=0)\n",
        "    # Fitting the data into the model\n",
        "    clf.fit(train_features, train_labels)\n",
        "    # Predicting the labels for test data\n",
        "    predicted_values = clf.predict(test_features)\n",
        "    return predicted_values\n",
        "    \n",
        "def calc_accuracy(train_features,test_features,train_labels,test_labels):\n",
        "    # Calling predict function to get the predicted labels of test data\n",
        "    pred = predict(train_features,test_features,train_labels)\n",
        "    return accuracy_score(pred, test_labels)\n",
        "  "
      ],
      "execution_count": 0,
      "outputs": []
    },
    {
      "cell_type": "code",
      "metadata": {
        "id": "eh2H-ZgFh9JW",
        "colab_type": "code",
        "outputId": "11bf2bc8-ec5d-4937-a263-8954e9615614",
        "colab": {
          "base_uri": "https://localhost:8080/",
          "height": 34
        }
      },
      "source": [
        "# kf = KFold(n_splits=4)\n",
        "# kf.get_n_splits(X_train_2classes)\n",
        "# print(kf.split(X_train_2classes))\n",
        "# for train_index, test_index in kf.split(X_train_2classes):\n",
        "#     print(\"TRAIN:\", train_index, \"TEST:\", test_index)\n",
        "#     X_train, X_test = X_train_2classes[train_index], X_train_2classes[test_index]\n",
        "#     y_train, y_test = y[train_index], y[test_index]\n",
        "calc_accuracy(X_train_2classes,X_test_2classes,Y_train_2classes,Y_test_2classes)"
      ],
      "execution_count": 41,
      "outputs": [
        {
          "output_type": "execute_result",
          "data": {
            "text/plain": [
              "0.9895833333333334"
            ]
          },
          "metadata": {
            "tags": []
          },
          "execution_count": 41
        }
      ]
    },
    {
      "cell_type": "code",
      "metadata": {
        "id": "BvV4XEDKzz_t",
        "colab_type": "code",
        "colab": {}
      },
      "source": [
        "xcombined = np.append(X_train_2classes,X_test_2classes,axis=0)\n",
        "ycombined = np.append(Y_train_2classes,Y_test_2classes)\n",
        "trainAccArr=[]\n",
        "testAccArr=[]\n",
        "kArray=[]"
      ],
      "execution_count": 0,
      "outputs": []
    },
    {
      "cell_type": "code",
      "metadata": {
        "id": "KIvAYATIu3Nm",
        "colab_type": "code",
        "colab": {}
      },
      "source": [
        "for i in range(4,11):\n",
        "    kf = KFold(n_splits=i)\n",
        "    kArray.append(i)\n",
        "    tempTrain=0\n",
        "    tempTest=0\n",
        "    for train_index, test_index in kf.split(xcombined):\n",
        "        X_train, X_test = xcombined[train_index], xcombined[test_index]\n",
        "        Y_train, Y_test = ycombined[train_index], ycombined[test_index]\n",
        "        tempTrain+=calc_accuracy(X_train,X_train,Y_train,Y_train)\n",
        "        tempTest+=calc_accuracy(X_train,X_test,Y_train,Y_test)\n",
        "    trainAccArr.append(tempTrain/i)\n",
        "    testAccArr.append(tempTest/i)"
      ],
      "execution_count": 0,
      "outputs": []
    },
    {
      "cell_type": "code",
      "metadata": {
        "id": "Qdx0haWmz4t_",
        "colab_type": "code",
        "colab": {
          "base_uri": "https://localhost:8080/",
          "height": 51
        },
        "outputId": "7999c525-ca5b-4ab0-8bb0-0ae688df7417"
      },
      "source": [
        "print(trainAccArr)\n",
        "print(testAccArr)"
      ],
      "execution_count": 44,
      "outputs": [
        {
          "output_type": "stream",
          "text": [
            "[0.9985545580591983, 0.9987321867703465, 0.9983242855552291, 0.9978073649532362, 0.9978160798366429, 0.9975286677886329, 0.9974030996663139]\n",
            "[0.9854475747268717, 0.9881669254912063, 0.9872117182684258, 0.989416741325302, 0.9888283708545147, 0.9873587226885263, 0.9882407507455591]\n"
          ],
          "name": "stdout"
        }
      ]
    },
    {
      "cell_type": "code",
      "metadata": {
        "id": "uno99Ee1z8LB",
        "colab_type": "code",
        "colab": {
          "base_uri": "https://localhost:8080/",
          "height": 265
        },
        "outputId": "b5aa07b7-ab73-4368-f249-8ceab2aebdba"
      },
      "source": [
        "plt.scatter(x=kArray,y=trainAccArr,c=\"red\", label = 'train')\n",
        "plt.scatter(x=kArray,y=testAccArr,c=\"blue\", label = 'test')\n",
        "plt.legend()\n",
        "plt.show()"
      ],
      "execution_count": 45,
      "outputs": [
        {
          "output_type": "display_data",
          "data": {
            "image/png": "[encoded data removed]",
            "text/plain": [
              "<Figure size 432x288 with 1 Axes>"
            ]
          },
          "metadata": {
            "tags": [],
            "needs_background": "light"
          }
        }
      ]
    }
  ]
}