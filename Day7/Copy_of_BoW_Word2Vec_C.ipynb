{
  "nbformat": 4,
  "nbformat_minor": 0,
  "metadata": {
    "colab": {
      "name": "Copy of BoW_Word2Vec_C.ipynb",
      "provenance": [],
      "collapsed_sections": [],
      "toc_visible": true
    },
    "kernelspec": {
      "name": "python3",
      "display_name": "Python 3"
    }
  },
  "cells": [
    {
      "cell_type": "markdown",
      "metadata": {
        "id": "UnNjcTH7wbUP",
        "colab_type": "text"
      },
      "source": [
        "The objective of this experiment is to learn words with similar or different meanings are equally apart in BoW and semantics or Meaning of the word is preserved in W2V\n",
        "\n"
      ]
    },
    {
      "cell_type": "markdown",
      "metadata": {
        "id": "hFhMGpiGwbUR",
        "colab_type": "text"
      },
      "source": [
        "In this experiment we will be using a huge dataset named as 20 news classification dataset. This data set consists of 20000 messages taken from 20 newsgroups.\n",
        "\n",
        "\n",
        "\t "
      ]
    },
    {
      "cell_type": "markdown",
      "metadata": {
        "id": "L0drLlmqwbUT",
        "colab_type": "text"
      },
      "source": [
        "### Datasource\n",
        "http://archive.ics.uci.edu/ml/datasets/Twenty+Newsgroups"
      ]
    },
    {
      "cell_type": "markdown",
      "metadata": {
        "id": "AunUB3i6wbUT",
        "colab_type": "text"
      },
      "source": [
        "To get a sense of our data, let us first start by counting the frequencies of the target classes in our news articles in the training set."
      ]
    },
    {
      "cell_type": "markdown",
      "metadata": {
        "id": "y53rHt9NwbUU",
        "colab_type": "text"
      },
      "source": [
        "#### Keywords\n",
        "\n",
        "* Numpy\n",
        "* Collections\n",
        "* Gensim\n",
        "* Bag-of-Words (Word Frequency, Pre-Processing)\n",
        "* Bag-of-Words representation"
      ]
    },
    {
      "cell_type": "markdown",
      "metadata": {
        "id": "rN0OyDALwbUU",
        "colab_type": "text"
      },
      "source": [
        "### Setup Steps"
      ]
    },
    {
      "cell_type": "code",
      "metadata": {
        "id": "Iak9BpAQEYLf",
        "colab_type": "code",
        "cellView": "form",
        "outputId": "f74a4309-95cd-40f1-b309-06a60ec4521c",
        "colab": {
          "base_uri": "https://localhost:8080/",
          "height": 326
        }
      },
      "source": [
        "#@title Run this cell to complete the setup for this Notebook\n",
        "\n",
        "from IPython import get_ipython\n",
        "ipython = get_ipython()\n",
        "\n",
        "ipython.magic(\"sx wget https://www.dropbox.com/s/ir5kph0ocvibaqm/Setup_W1_D1_Exp1.sh?dl=1\")\n",
        "ipython.magic(\"sx mv Setup_W1_D1_Exp1.sh?dl=1 Setup_W1_D1_Exp1.sh\")\n",
        "ipython.magic(\"sx bash Setup_W1_D1_Exp1.sh -u standard -p pass123\")\n",
        "ipython.magic(\"sx pip3 install gensim\")\n"
      ],
      "execution_count": 16,
      "outputs": [
        {
          "output_type": "execute_result",
          "data": {
            "text/plain": [
              "['Requirement already satisfied: gensim in /usr/local/lib/python3.6/dist-packages (3.6.0)',\n",
              " 'Requirement already satisfied: numpy>=1.11.3 in /usr/local/lib/python3.6/dist-packages (from gensim) (1.18.4)',\n",
              " 'Requirement already satisfied: scipy>=0.18.1 in /usr/local/lib/python3.6/dist-packages (from gensim) (1.4.1)',\n",
              " 'Requirement already satisfied: smart-open>=1.2.1 in /usr/local/lib/python3.6/dist-packages (from gensim) (2.0.0)',\n",
              " 'Requirement already satisfied: six>=1.5.0 in /usr/local/lib/python3.6/dist-packages (from gensim) (1.12.0)',\n",
              " 'Requirement already satisfied: boto in /usr/local/lib/python3.6/dist-packages (from smart-open>=1.2.1->gensim) (2.49.0)',\n",
              " 'Requirement already satisfied: requests in /usr/local/lib/python3.6/dist-packages (from smart-open>=1.2.1->gensim) (2.23.0)',\n",
              " 'Requirement already satisfied: boto3 in /usr/local/lib/python3.6/dist-packages (from smart-open>=1.2.1->gensim) (1.13.19)',\n",
              " 'Requirement already satisfied: idna<3,>=2.5 in /usr/local/lib/python3.6/dist-packages (from requests->smart-open>=1.2.1->gensim) (2.9)',\n",
              " 'Requirement already satisfied: chardet<4,>=3.0.2 in /usr/local/lib/python3.6/dist-packages (from requests->smart-open>=1.2.1->gensim) (3.0.4)',\n",
              " 'Requirement already satisfied: urllib3!=1.25.0,!=1.25.1,<1.26,>=1.21.1 in /usr/local/lib/python3.6/dist-packages (from requests->smart-open>=1.2.1->gensim) (1.24.3)',\n",
              " 'Requirement already satisfied: certifi>=2017.4.17 in /usr/local/lib/python3.6/dist-packages (from requests->smart-open>=1.2.1->gensim) (2020.4.5.1)',\n",
              " 'Requirement already satisfied: s3transfer<0.4.0,>=0.3.0 in /usr/local/lib/python3.6/dist-packages (from boto3->smart-open>=1.2.1->gensim) (0.3.3)',\n",
              " 'Requirement already satisfied: botocore<1.17.0,>=1.16.19 in /usr/local/lib/python3.6/dist-packages (from boto3->smart-open>=1.2.1->gensim) (1.16.19)',\n",
              " 'Requirement already satisfied: jmespath<1.0.0,>=0.7.1 in /usr/local/lib/python3.6/dist-packages (from boto3->smart-open>=1.2.1->gensim) (0.10.0)',\n",
              " 'Requirement already satisfied: python-dateutil<3.0.0,>=2.1 in /usr/local/lib/python3.6/dist-packages (from botocore<1.17.0,>=1.16.19->boto3->smart-open>=1.2.1->gensim) (2.8.1)',\n",
              " 'Requirement already satisfied: docutils<0.16,>=0.10 in /usr/local/lib/python3.6/dist-packages (from botocore<1.17.0,>=1.16.19->boto3->smart-open>=1.2.1->gensim) (0.15.2)']"
            ]
          },
          "metadata": {
            "tags": []
          },
          "execution_count": 16
        }
      ]
    },
    {
      "cell_type": "code",
      "metadata": {
        "id": "H9sC9--9wbUq",
        "colab_type": "code",
        "colab": {}
      },
      "source": [
        "# Importing required Packages\n",
        "import pickle\n",
        "import re\n",
        "import operator\n",
        "from collections import defaultdict\n",
        "import matplotlib.pyplot as plt\n",
        "import numpy as np\n",
        "import math\n",
        "import collections\n",
        "import gensim\n",
        "from nltk import ngrams\n",
        "import warnings\n",
        "warnings.filterwarnings(\"ignore\")"
      ],
      "execution_count": 0,
      "outputs": []
    },
    {
      "cell_type": "code",
      "metadata": {
        "id": "JEhKu_rjwbUt",
        "colab_type": "code",
        "outputId": "e915592e-d9d0-4691-a2fb-506d43932cb9",
        "colab": {
          "base_uri": "https://localhost:8080/",
          "height": 54
        }
      },
      "source": [
        "# Loading the dataset\n",
        "dataset = pickle.load(open('week1_exp1/AIML_DS_NEWSGROUPS_PICKELFILE.pkl','rb'))\n",
        "print(dataset.keys())"
      ],
      "execution_count": 18,
      "outputs": [
        {
          "output_type": "stream",
          "text": [
            "dict_keys(['talk.politics.mideast', 'rec.autos', 'comp.sys.mac.hardware', 'alt.atheism', 'rec.sport.baseball', 'comp.os.ms-windows.misc', 'rec.sport.hockey', 'sci.crypt', 'sci.med', 'talk.politics.misc', 'rec.motorcycles', 'comp.windows.x', 'comp.graphics', 'comp.sys.ibm.pc.hardware', 'sci.electronics', 'talk.politics.guns', 'sci.space', 'soc.religion.christian', 'misc.forsale', 'talk.religion.misc'])\n"
          ],
          "name": "stdout"
        }
      ]
    },
    {
      "cell_type": "code",
      "metadata": {
        "id": "ZF9S3GYSwbUx",
        "colab_type": "code",
        "outputId": "9ba17141-60a9-42bf-9eda-17c7ad27b155",
        "colab": {
          "base_uri": "https://localhost:8080/",
          "height": 391
        }
      },
      "source": [
        "# Print frequencies of dataset\n",
        "print(\"Class : count\")\n",
        "print(\"--------------\")\n",
        "number_of_documents = 0\n",
        "for key in dataset:\n",
        "    print(key, ':', len(dataset[key]))"
      ],
      "execution_count": 19,
      "outputs": [
        {
          "output_type": "stream",
          "text": [
            "Class : count\n",
            "--------------\n",
            "talk.politics.mideast : 940\n",
            "rec.autos : 990\n",
            "comp.sys.mac.hardware : 961\n",
            "alt.atheism : 799\n",
            "rec.sport.baseball : 994\n",
            "comp.os.ms-windows.misc : 985\n",
            "rec.sport.hockey : 999\n",
            "sci.crypt : 991\n",
            "sci.med : 990\n",
            "talk.politics.misc : 775\n",
            "rec.motorcycles : 994\n",
            "comp.windows.x : 980\n",
            "comp.graphics : 973\n",
            "comp.sys.ibm.pc.hardware : 982\n",
            "sci.electronics : 981\n",
            "talk.politics.guns : 910\n",
            "sci.space : 987\n",
            "soc.religion.christian : 997\n",
            "misc.forsale : 972\n",
            "talk.religion.misc : 628\n"
          ],
          "name": "stdout"
        }
      ]
    },
    {
      "cell_type": "markdown",
      "metadata": {
        "id": "gJDnkxkmwbU1",
        "colab_type": "text"
      },
      "source": [
        "Next, let us split our dataset which consists of 1000 samples per class, into training and test sets. We use 950 samples from each class in the training set, and the remaining 50 in the test set. \n",
        "\n",
        "As a mental exercise you should try reasoning about why is it important to ensure a nearly equal distribution of classes in your training and test sets. "
      ]
    },
    {
      "cell_type": "code",
      "metadata": {
        "id": "u6GK60NEwbU2",
        "colab_type": "code",
        "colab": {}
      },
      "source": [
        "train_set = {}\n",
        "test_set = {}\n",
        "\n",
        "# Clean dataset for text encoding issues :- Very useful when dealing with non-unicode characters\n",
        "for key in dataset:\n",
        "    dataset[key] = [[i.decode('utf-8', errors='replace').lower() for i in f] for f in dataset[key]]\n",
        "    \n",
        "# Break dataset into 95-5 split for training and testing\n",
        "n_train = 0\n",
        "n_test = 0\n",
        "for k in dataset:\n",
        "    split = int(0.95*len(dataset[k]))\n",
        "    train_set[k] = dataset[k][0:split]\n",
        "    test_set[k] = dataset[k][split:-1]\n",
        "    n_train += len(train_set[k])\n",
        "    n_test += len(test_set[k])"
      ],
      "execution_count": 0,
      "outputs": []
    },
    {
      "cell_type": "markdown",
      "metadata": {
        "id": "afd4qfAEwbU6",
        "colab_type": "text"
      },
      "source": [
        "## 1. Bag-of-Words\n",
        "\n",
        "Let us begin our journey into text classification with one of the simplest but most commonly used feature representations for news documents - Bag-of-Words.\n",
        "\n",
        "As you might have realized, machine learning algorithms need good feature representations of different inputs.  Concretely, we would like to represent each news article $D$ in terms of a feature vector $V$, which can be used for classification. Feature vector $V$ is made up of the number of occurences of each word in the vocabulary.\n",
        "\n",
        "Let us begin by counting the number of occurences of every word in the news documents in the training set."
      ]
    },
    {
      "cell_type": "markdown",
      "metadata": {
        "id": "OACynazXwbU7",
        "colab_type": "text"
      },
      "source": [
        "### 1.1 Word frequency"
      ]
    },
    {
      "cell_type": "markdown",
      "metadata": {
        "id": "zWgzZVqYwbU8",
        "colab_type": "text"
      },
      "source": [
        "### Let us try understanding the kind of words that appear frequently, and those that occur rarely. We now count the frequencies of words:"
      ]
    },
    {
      "cell_type": "code",
      "metadata": {
        "id": "9kyqVjvBWLdK",
        "colab_type": "code",
        "colab": {}
      },
      "source": [
        "def frequency_words(train_set):\n",
        "  frequency = defaultdict(int)\n",
        "\n",
        "  for key in train_set:\n",
        "      for f in train_set[key]:\n",
        "\n",
        "          # Find all words which consist only of capital and lowercase characters and are between length of 2-9.\n",
        "          # We ignore all special characters such as !.$ and words containing numbers\n",
        "          words = re.findall(r'(\\b[A-Za-z][a-z]{2,9}\\b)', ' '.join(f))\n",
        "\n",
        "          for word in words:\n",
        "              frequency[word] += 1\n",
        "  return frequency"
      ],
      "execution_count": 0,
      "outputs": []
    },
    {
      "cell_type": "code",
      "metadata": {
        "id": "AdILkwjHwbU9",
        "colab_type": "code",
        "outputId": "c67bd8da-9258-4981-b6c1-1972cd341078",
        "colab": {
          "base_uri": "https://localhost:8080/",
          "height": 391
        }
      },
      "source": [
        "frequency_of_words = frequency_words(train_set)\n",
        "\n",
        "sorted_words = sorted(frequency_of_words.items(), key=operator.itemgetter(1), reverse=True)\n",
        "print(\"Top-10 most frequent words:\")\n",
        "for word in sorted_words[:10]:\n",
        "    print(word)\n",
        "\n",
        "print('----------------------------')\n",
        "print(\"10 least frequent words:\")\n",
        "for word in sorted_words[-10:-1]:\n",
        "    print(word)"
      ],
      "execution_count": 22,
      "outputs": [
        {
          "output_type": "stream",
          "text": [
            "Top-10 most frequent words:\n",
            "('the', 226860)\n",
            "('and', 90621)\n",
            "('that', 62088)\n",
            "('for', 43546)\n",
            "('you', 42430)\n",
            "('from', 35358)\n",
            "('this', 31001)\n",
            "('not', 28645)\n",
            "('have', 28519)\n",
            "('are', 28355)\n",
            "----------------------------\n",
            "10 least frequent words:\n",
            "('apokteiuo', 1)\n",
            "('odessy', 1)\n",
            "('reedited', 1)\n",
            "('stumps', 1)\n",
            "('morsel', 1)\n",
            "('roston', 1)\n",
            "('nutball', 1)\n",
            "('tillage', 1)\n",
            "('honorably', 1)\n"
          ],
          "name": "stdout"
        }
      ]
    },
    {
      "cell_type": "markdown",
      "metadata": {
        "id": "YxZqnO8GwbVB",
        "colab_type": "text"
      },
      "source": [
        "Next, we attempt to plot a histogram of the counts of various words in descending order. \n",
        "\n",
        "Could you comment about the relationship between the frequency of the most frequent word to the second frequent word? \n",
        "And what about the third most frequent word?\n",
        "\n",
        "(Hint - Check the relative frequencies of the first, second and third most frequent words)\n",
        "\n",
        "(After answering, you can visit https://en.wikipedia.org/wiki/Zipf%27s_law for further Reading)"
      ]
    },
    {
      "cell_type": "code",
      "metadata": {
        "id": "kyWfgN4qwbVC",
        "colab_type": "code",
        "outputId": "97d0fd27-67cc-4ae1-97b2-706921cb69dc",
        "colab": {
          "base_uri": "https://localhost:8080/",
          "height": 623
        }
      },
      "source": [
        "%matplotlib inline  \n",
        "\n",
        "fig = plt.figure()\n",
        "fig.set_size_inches(20,10)\n",
        "\n",
        "plt.bar(range(len(sorted_words[:100])), [v for k, v in sorted_words[:100]] , align='center')\n",
        "plt.xticks(range(len(sorted_words[:100])), [k for k, v in sorted_words[:100]])\n",
        "locs, labels = plt.xticks()\n",
        "plt.setp(labels, rotation=90)\n",
        "plt.show()"
      ],
      "execution_count": 23,
      "outputs": [
        {
          "output_type": "display_data",
          "data": {
            "image/png": "[encoded data removed]",
            "text/plain": [
              "<Figure size 1440x720 with 1 Axes>"
            ]
          },
          "metadata": {
            "tags": [],
            "needs_background": "light"
          }
        }
      ]
    },
    {
      "cell_type": "markdown",
      "metadata": {
        "id": "yvcU4VDkwbVE",
        "colab_type": "text"
      },
      "source": [
        "### 1.2 Pre-processing to remove most and least frequent words\n",
        "\n",
        "We can see that different words appear with different frequencies.\n",
        "\n",
        "The most common words appear in almost all documents. Hence, for a classification task, having information about those words' frequencies does not mater much since they appear frequently in every type of document. To get a good feature representation, we eliminate them since they do not add too much value.\n",
        "\n",
        "Additionally, notice how the least frequent words appear so rarely that they might not be useful either.\n",
        "\n",
        "Let us pre-process our news articles now to remove the most frequent and least frequent words by thresholding their counts: "
      ]
    },
    {
      "cell_type": "code",
      "metadata": {
        "id": "TrBX6IOSaofH",
        "colab_type": "code",
        "colab": {}
      },
      "source": [
        "def cleaning_vocabulary_words(list_of_grams):\n",
        "  valid_words = defaultdict(int)\n",
        "\n",
        "  print('Number of words before preprocessing:', len(list_of_grams))\n",
        "\n",
        "  # Ignore the 25 most frequent words, and the words which appear less than 100 times\n",
        "  ignore_most_frequent = 25\n",
        "  freq_thresh = 100\n",
        "  feature_number = 0\n",
        "  for word, word_frequency in list_of_grams[ignore_most_frequent:]:\n",
        "      if word_frequency > freq_thresh:\n",
        "          valid_words[word] = feature_number\n",
        "          feature_number += 1\n",
        "      elif '_' in word:\n",
        "          valid_words[word] = feature_number\n",
        "          feature_number += 1\n",
        "\n",
        "  print('Number of words after preprocessing:', len(valid_words))\n",
        "\n",
        "  vector_size = len(valid_words)\n",
        "  return valid_words, vector_size"
      ],
      "execution_count": 0,
      "outputs": []
    },
    {
      "cell_type": "code",
      "metadata": {
        "id": "ztxnNsH8bVQV",
        "colab_type": "code",
        "outputId": "58b9383b-3ef7-4279-c1fa-19f7041ccaaf",
        "colab": {
          "base_uri": "https://localhost:8080/",
          "height": 105
        }
      },
      "source": [
        "valid_words, number_of_words = cleaning_vocabulary_words(sorted_words)\n",
        "print(valid_words)\n",
        "print(number_of_words)"
      ],
      "execution_count": 25,
      "outputs": [
        {
          "output_type": "stream",
          "text": [
            "Number of words before preprocessing: 89599\n",
            "Number of words after preprocessing: 4096\n",
            "defaultdict(<class 'int'>, {'writes': 0, 'your': 1, 'has': 2, 'any': 3, 'article': 4, 'some': 5, 'who': 6, 'out': 7, 'which': 8, 'don': 9, 'more': 10, 'like': 11, 'people': 12, 'when': 13, 'just': 14, 'were': 15, 'their': 16, 'know': 17, 'how': 18, 'other': 19, 'get': 20, 'only': 21, 'them': 22, 'had': 23, 'than': 24, 'think': 25, 'been': 26, 'his': 27, 'also': 28, 'does': 29, 'use': 30, 'time': 31, 'then': 32, 'these': 33, 'new': 34, 'good': 35, 'should': 36, 'could': 37, 'well': 38, 'because': 39, 'may': 40, 'now': 41, 'even': 42, 'why': 43, 'see': 44, 'very': 45, 'into': 46, 'way': 47, 'max': 48, 'two': 49, 'god': 50, 'first': 51, 'make': 52, 'much': 53, 'many': 54, 'those': 55, 'most': 56, 'say': 57, 'such': 58, 'here': 59, 'right': 60, 'system': 61, 'did': 62, 'where': 63, 'our': 64, 'want': 65, 'anyone': 66, 'used': 67, 'after': 68, 'said': 69, 'being': 70, 'over': 71, 'its': 72, 'same': 73, 'need': 74, 'work': 75, 'problem': 76, 'too': 77, 'something': 78, 'really': 79, 'please': 80, 'him': 81, 'since': 82, 'believe': 83, 'back': 84, 'off': 85, 'windows': 86, 'still': 87, 'going': 88, 'mail': 89, 'find': 90, 'help': 91, 'before': 92, 'take': 93, 'point': 94, 'year': 95, 'using': 96, 'question': 97, 'file': 98, 'last': 99, 'years': 100, 'might': 101, 'government': 102, 'never': 103, 'thanks': 104, 'both': 105, 'while': 106, 'better': 107, 'read': 108, 'things': 109, 'must': 110, 'own': 111, 'etc': 112, 'number': 113, 'another': 114, 'without': 115, 'sure': 116, 'world': 117, 'david': 118, 'made': 119, 'someone': 120, 'state': 121, 'down': 122, 'through': 123, 'let': 124, 'doesn': 125, 'drive': 126, 'bit': 127, 'got': 128, 'between': 129, 'data': 130, 'university': 131, 'space': 132, 'long': 133, 'program': 134, 'thing': 135, 'under': 136, 'look': 137, 'part': 138, 'available': 139, 'few': 140, 'software': 141, 'day': 142, 'power': 143, 'around': 144, 'come': 145, 'little': 146, 'case': 147, 'fact': 148, 'each': 149, 'anything': 150, 'didn': 151, 'however': 152, 'again': 153, 'give': 154, 'against': 155, 'news': 156, 'key': 157, 'best': 158, 'law': 159, 'game': 160, 'every': 161, 'she': 162, 'probably': 163, 'seems': 164, 'john': 165, 'different': 166, 'least': 167, 'true': 168, 'tell': 169, 'dos': 170, 'enough': 171, 'put': 172, 'set': 173, 'car': 174, 'run': 175, 'try': 176, 'computer': 177, 'course': 178, 'lot': 179, 'name': 180, 'actually': 181, 'her': 182, 'list': 183, 'great': 184, 'org': 185, 'says': 186, 'real': 187, 'high': 188, 'hard': 189, 'line': 190, 'far': 191, 'either': 192, 'post': 193, 'though': 194, 'life': 195, 'group': 196, 'old': 197, 'called': 198, 'support': 199, 'second': 200, 'nothing': 201, 'man': 202, 'possible': 203, 'free': 204, 'else': 205, 'wrong': 206, 'end': 207, 'rather': 208, 'gov': 209, 'net': 210, 'image': 211, 'public': 212, 'mean': 213, 'card': 214, 'call': 215, 'reason': 216, 'team': 217, 'jesus': 218, 'yes': 219, 'problems': 220, 'looking': 221, 'files': 222, 'keep': 223, 'version': 224, 'next': 225, 'person': 226, 'based': 227, 'found': 228, 'above': 229, 'mark': 230, 'maybe': 231, 'done': 232, 'non': 233, 'email': 234, 'seen': 235, 'others': 236, 'able': 237, 'sun': 238, 'order': 239, 'having': 240, 'yet': 241, 'always': 242, 'gun': 243, 'place': 244, 'general': 245, 'three': 246, 'isn': 247, 'send': 248, 'graphics': 249, 'ever': 250, 'bill': 251, 'thought': 252, 'bad': 253, 'chip': 254, 'example': 255, 'quite': 256, 'heard': 257, 'internet': 258, 'doing': 259, 'info': 260, 'following': 261, 'less': 262, 'once': 263, 'nasa': 264, 'mac': 265, 'wrote': 266, 'trying': 267, 'control': 268, 'left': 269, 'window': 270, 'israel': 271, 'several': 272, 'won': 273, 'christian': 274, 'phone': 275, 'research': 276, 'children': 277, 'given': 278, 'book': 279, 'whether': 280, 'getting': 281, 'big': 282, 'access': 283, 'times': 284, 'home': 285, 'means': 286, 'away': 287, 'systems': 288, 'evidence': 289, 'idea': 290, 'today': 291, 'start': 292, 'human': 293, 'kind': 294, 'ftp': 295, 'during': 296, 'michael': 297, 'note': 298, 'word': 299, 'remember': 300, 'code': 301, 'seem': 302, 'questions': 303, 'president': 304, 'netcom': 305, 'source': 306, 'paul': 307, 'american': 308, 'change': 309, 'apple': 310, 'games': 311, 'makes': 312, 'opinions': 313, 'standard': 314, 'ibm': 315, 'scsi': 316, 'stuff': 317, 'disk': 318, 'already': 319, 'large': 320, 'fax': 321, 'full': 322, 'steve': 323, 'message': 324, 'cannot': 325, 'uucp': 326, 'local': 327, 'price': 328, 'jews': 329, 'until': 330, 'small': 331, 'ask': 332, 'mike': 333, 'running': 334, 'national': 335, 'uiuc': 336, 'perhaps': 337, 'money': 338, 'answer': 339, 'saying': 340, 'came': 341, 'win': 342, 'play': 343, 'address': 344, 'speed': 345, 'buy': 346, 'days': 347, 'ago': 348, 'show': 349, 'told': 350, 'type': 351, 'current': 352, 'interested': 353, 'issue': 354, 'color': 355, 'pretty': 356, 'machine': 357, 'war': 358, 'hope': 359, 'bible': 360, 'original': 361, 'sale': 362, 'works': 363, 'matter': 364, 'andrew': 365, 'center': 366, 'feel': 367, 'whole': 368, 'agree': 369, 'rights': 370, 'memory': 371, 'box': 372, 'open': 373, 'often': 374, 'love': 375, 'science': 376, 'care': 377, 'went': 378, 'armenian': 379, 'mind': 380, 'religion': 381, 'states': 382, 'understand': 383, 'everything': 384, 'live': 385, 'clipper': 386, 'hand': 387, 'church': 388, 'april': 389, 'jim': 390, 'everyone': 391, 'simply': 392, 'side': 393, 'mit': 394, 'important': 395, 'server': 396, 'almost': 397, 'history': 398, 'encryption': 399, 'robert': 400, 'display': 401, 'video': 402, 'programs': 403, 'including': 404, 'guess': 405, 'fbi': 406, 'claim': 407, 'comes': 408, 'white': 409, 'working': 410, 'cause': 411, 'technology': 412, 'wanted': 413, 'area': 414, 'certainly': 415, 'fire': 416, 'earth': 417, 'include': 418, 'instead': 419, 'later': 420, 'men': 421, 'house': 422, 'low': 423, 'wouldn': 424, 'copy': 425, 'christians': 426, 'anyway': 427, 'started': 428, 'jewish': 429, 'single': 430, 'death': 431, 'although': 432, 'turkish': 433, 'making': 434, 'christ': 435, 'washington': 436, 'cost': 437, 'unless': 438, 'tried': 439, 'known': 440, 'themselves': 441, 'faith': 442, 'anybody': 443, 'write': 444, 'armenians': 445, 'clinton': 446, 'difference': 447, 'hell': 448, 'sort': 449, 'police': 450, 'hockey': 451, 'posting': 452, 'check': 453, 'words': 454, 'talk': 455, 'unix': 456, 'similar': 457, 'package': 458, 'security': 459, 'within': 460, 'hardware': 461, 'country': 462, 'user': 463, 'consider': 464, 'press': 465, 'faq': 466, 'screen': 467, 'black': 468, 'major': 469, 'light': 470, 'body': 471, 'james': 472, 'couple': 473, 'certain': 474, 'service': 475, 'view': 476, 'per': 477, 'text': 478, 'night': 479, 'contact': 480, 'truth': 481, 'fast': 482, 'clear': 483, 'private': 484, 'nice': 485, 'sound': 486, 'asked': 487, 'likely': 488, 'top': 489, 'driver': 490, 'self': 491, 'talking': 492, 'killed': 493, 'especially': 494, 'took': 495, 'size': 496, 'format': 497, 'sense': 498, 'israeli': 499, 'images': 500, 'health': 501, 'head': 502, 'saw': 503, 'brian': 504, 'dead': 505, 'argument': 506, 'dave': 507, 'toronto': 508, 'stop': 509, 'exactly': 510, 'opinion': 511, 'reading': 512, 'att': 513, 'board': 514, 'correct': 515, 'haven': 516, 'usually': 517, 'sorry': 518, 'women': 519, 'level': 520, 'pub': 521, 'fine': 522, 'company': 523, 'players': 524, 'bike': 525, 'common': 526, 'apr': 527, 'provide': 528, 'test': 529, 'among': 530, 'via': 531, 'thus': 532, 'goes': 533, 'become': 534, 'simple': 535, 'pay': 536, 'jpeg': 537, 'monitor': 538, 'guy': 539, 'discussion': 540, 'position': 541, 'deal': 542, 'keys': 543, 'force': 544, 'books': 545, 'third': 546, 'period': 547, 'bus': 548, 'guns': 549, 'taken': 550, 'study': 551, 'experience': 552, 'form': 553, 'personal': 554, 'past': 555, 'hit': 556, 'situation': 557, 'advance': 558, 'network': 559, 'statement': 560, 'happened': 561, 'groups': 562, 'school': 563, 'religious': 564, 'easy': 565, 'except': 566, 'turn': 567, 'dod': 568, 'mine': 569, 'numbers': 570, 'particular': 571, 'cmu': 572, 'four': 573, 'myself': 574, 'series': 575, 'front': 576, 'season': 577, 'week': 578, 'uses': 579, 'whatever': 580, 'effect': 581, 'hear': 582, 'red': 583, 'city': 584, 'bob': 585, 'rest': 586, 'lines': 587, 'usa': 588, 'radio': 589, 'needs': 590, 'mouse': 591, 'itself': 592, 'due': 593, 'needed': 594, 'peter': 595, 'short': 596, 'lost': 597, 'months': 598, 'department': 599, 'according': 600, 'canada': 601, 'mode': 602, 'inc': 603, 'points': 604, 'scott': 605, 'add': 606, 'therefore': 607, 'air': 608, 'value': 609, 'anti': 610, 'drivers': 611, 'users': 612, 'medical': 613, 'written': 614, 'upon': 615, 'society': 616, 'nor': 617, 'future': 618, 'baseball': 619, 'peace': 620, 'gets': 621, 'exist': 622, 'cso': 623, 'sell': 624, 'move': 625, 'considered': 626, 'manager': 627, 'runs': 628, 'office': 629, 'political': 630, 'laws': 631, 'recently': 632, 'face': 633, 'special': 634, 'job': 635, 'longer': 636, 'posted': 637, 'date': 638, 'model': 639, 'frank': 640, 'ones': 641, 'usenet': 642, 'york': 643, 'taking': 644, 'error': 645, 'business': 646, 'specific': 647, 'early': 648, 'ground': 649, 'quality': 650, 'aren': 651, 'request': 652, 'sometimes': 653, 'kill': 654, 'wasn': 655, 'process': 656, 'expect': 657, 'koresh': 658, 'happen': 659, 'various': 660, 'members': 661, 'tom': 662, 'young': 663, 'friend': 664, 'coming': 665, 'plus': 666, 'offer': 667, 'comp': 668, 'drives': 669, 'thomas': 670, 'road': 671, 'action': 672, 'rutgers': 673, 'behind': 674, 'strong': 675, 'built': 676, 'return': 677, 'tape': 678, 'united': 679, 'smith': 680, 'rate': 681, 'accept': 682, 'close': 683, 'san': 684, 'near': 685, 'cars': 686, 'motif': 687, 'together': 688, 'response': 689, 'output': 690, 'moral': 691, 'result': 692, 'policy': 693, 'league': 694, 'legal': 695, 'sin': 696, 'military': 697, 'thinking': 698, 'hold': 699, 'assume': 700, 'virginia': 701, 'term': 702, 'yourself': 703, 'bitnet': 704, 'keith': 705, 'player': 706, 'ram': 707, 'story': 708, 'related': 709, 'gas': 710, 'wants': 711, 'doubt': 712, 'sources': 713, 'includes': 714, 'further': 715, 'voice': 716, 'save': 717, 'looks': 718, 'leave': 719, 'involved': 720, 'cut': 721, 'build': 722, 'allow': 723, 'blue': 724, 'cases': 725, 'total': 726, 'gif': 727, 'water': 728, 'million': 729, 'speak': 730, 'worth': 731, 'act': 732, 'design': 733, 'previous': 734, 'colorado': 735, 'comments': 736, 'half': 737, 'couldn': 738, 'microsoft': 739, 'reply': 740, 'soon': 741, 'deleted': 742, 'shall': 743, 'chris': 744, 'parts': 745, 'pat': 746, 'building': 747, 'outside': 748, 'land': 749, 'reference': 750, 'higher': 751, 'population': 752, 'weapons': 753, 'currently': 754, 'child': 755, 'along': 756, 'controller': 757, 'himself': 758, 'necessary': 759, 'mentioned': 760, 'ideas': 761, 'sent': 762, 'asking': 763, 'east': 764, 'defense': 765, 'results': 766, 'insurance': 767, 'explain': 768, 'stanford': 769, 'section': 770, 'present': 771, 'none': 772, 'report': 773, 'knows': 774, 'richard': 775, 'crime': 776, 'clearly': 777, 'field': 778, 'willing': 779, 'knowledge': 780, 'arab': 781, 'media': 782, 'site': 783, 'federal': 784, 'ide': 785, 'nature': 786, 'ray': 787, 'cover': 788, 'modem': 789, 'drug': 790, 'average': 791, 'die': 792, 'page': 793, 'command': 794, 'included': 795, 'serious': 796, 'batf': 797, 'father': 798, 'directory': 799, 'takes': 800, 'george': 801, 'issues': 802, 'ways': 803, 'algorithm': 804, 'muslim': 805, 'interest': 806, 'purpose': 807, 'theory': 808, 'court': 809, 'armenia': 810, 'lord': 811, 'eric': 812, 'complete': 813, 'machines': 814, 'division': 815, 'completely': 816, 'weeks': 817, 'main': 818, 'sounds': 819, 'choice': 820, 'engine': 821, 'living': 822, 'cards': 823, 'belief': 824, 'newsgroup': 825, 'otherwise': 826, 'appears': 827, 'uunet': 828, 'atheists': 829, 'chance': 830, 'joe': 831, 'device': 832, 'pitt': 833, 'gives': 834, 'food': 835, 'sex': 836, 'serial': 837, 'sgi': 838, 'language': 839, 'lead': 840, 'suggest': 841, 'project': 842, 'base': 843, 'anonymous': 844, 'claims': 845, 'freedom': 846, 'inside': 847, 'gave': 848, 'below': 849, 'henry': 850, 'individual': 851, 'basic': 852, 'faster': 853, 'follow': 854, 'normal': 855, 'family': 856, 'exists': 857, 'muslims': 858, 'berkeley': 859, 'reasons': 860, 'bought': 861, 'technical': 862, 'son': 863, 'turkey': 864, 'manual': 865, 'directly': 866, 'jon': 867, 'acs': 868, 'interface': 869, 'tim': 870, 'create': 871, 'ohio': 872, 'waco': 873, 'paper': 874, 'russian': 875, 'pro': 876, 'required': 877, 'finally': 878, 'supposed': 879, 'figure': 880, 'dan': 881, 'created': 882, 'final': 883, 'looked': 884, 'indeed': 885, 'thank': 886, 'morality': 887, 'secret': 888, 'details': 889, 'port': 890, 'goal': 891, 'cheap': 892, 'mil': 893, 'record': 894, 'existence': 895, 'basis': 896, 'green': 897, 'cup': 898, 'arms': 899, 'shot': 900, 'learn': 901, 'meaning': 902, 'cpu': 903, 'attack': 904, 'market': 905, 'obviously': 906, 'hours': 907, 'america': 908, 'amount': 909, 'bits': 910, 'privacy': 911, 'fan': 912, 'rules': 913, 'digital': 914, 'boston': 915, 'commercial': 916, 'sci': 917, 'lots': 918, 'useful': 919, 'condition': 920, 'wish': 921, 'release': 922, 'alt': 923, 'advice': 924, 'product': 925, 'class': 926, 'difficult': 927, 'designed': 928, 'objective': 929, 'folks': 930, 'soviet': 931, 'easily': 932, 'plan': 933, 'king': 934, 'columbia': 935, 'reasonable': 936, 'disclaimer': 937, 'library': 938, 'whose': 939, 'scientific': 940, 'dec': 941, 'greek': 942, 'drugs': 943, 'wait': 944, 'heart': 945, 'wondering': 946, 'terms': 947, 'turks': 948, 'extra': 949, 'buffalo': 950, 'author': 951, 'entire': 952, 'answers': 953, 'function': 954, 'fans': 955, 'party': 956, 'break': 957, 'values': 958, 'solution': 959, 'institute': 960, 'door': 961, 'station': 962, 'neither': 963, 'carry': 964, 'room': 965, 'rule': 966, 'received': 967, 'miles': 968, 'widget': 969, 'launch': 970, 'congress': 971, 'printer': 972, 'unit': 973, 'decided': 974, 'changed': 975, 'joseph': 976, 'mass': 977, 'services': 978, 'wonder': 979, 'conference': 980, 'bbs': 981, 'avoid': 982, 'clock': 983, 'west': 984, 'double': 985, 'tax': 986, 'des': 987, 'places': 988, 'california': 989, 'analysis': 990, 'happy': 991, 'street': 992, 'atheism': 993, 'disease': 994, 'lives': 995, 'hate': 996, 'companies': 997, 'limited': 998, 'cable': 999, 'nhl': 1000, 'community': 1001, 'five': 1002, 'pick': 1003, 'genocide': 1004, 'prove': 1005, 'happens': 1006, 'guys': 1007, 'americans': 1008, 'devices': 1009, 'apparently': 1010, 'watch': 1011, 'trouble': 1012, 'object': 1013, 'age': 1014, 'stupid': 1015, 'recent': 1016, 'wife': 1017, 'allowed': 1018, 'mention': 1019, 'alone': 1020, 'bhj': 1021, 'bring': 1022, 'generally': 1023, 'oil': 1024, 'letter': 1025, 'worked': 1026, 'texas': 1027, 'volume': 1028, 'stand': 1029, 'citizens': 1030, 'views': 1031, 'floppy': 1032, 'attempt': 1033, 'continue': 1034, 'safety': 1035, 'stated': 1036, 'western': 1037, 'late': 1038, 'archive': 1039, 'knew': 1040, 'trade': 1041, 'caltech': 1042, 'btw': 1043, 'chips': 1044, 'army': 1045, 'reports': 1046, 'gary': 1047, 'gay': 1048, 'teams': 1049, 'protect': 1050, 'method': 1051, 'art': 1052, 'tel': 1053, 'jeff': 1054, 'mission': 1055, 'giving': 1056, 'somebody': 1057, 'range': 1058, 'moon': 1059, 'require': 1060, 'actions': 1061, 'rom': 1062, 'suppose': 1063, 'across': 1064, 'ken': 1065, 'entry': 1066, 'escrow': 1067, 'cramer': 1068, 'definition': 1069, 'orbit': 1070, 'forget': 1071, 'events': 1072, 'fall': 1073, 'chicago': 1074, 'input': 1075, 'charles': 1076, 'ron': 1077, 'germany': 1078, 'worse': 1079, 'reported': 1080, 'cwru': 1081, 'internal': 1082, 'equipment': 1083, 'apply': 1084, 'excellent': 1085, 'disks': 1086, 'define': 1087, 'doug': 1088, 'imagine': 1089, 'led': 1090, 'mother': 1091, 'event': 1092, 'month': 1093, 'blood': 1094, 'supply': 1095, 'died': 1096, 'brought': 1097, 'stephen': 1098, 'member': 1099, 'lack': 1100, 'installed': 1101, 'north': 1102, 'studies': 1103, 'title': 1104, 'illegal': 1105, 'shuttle': 1106, 'gone': 1107, 'official': 1108, 'products': 1109, 'stratus': 1110, 'lee': 1111, 'addition': 1112, 'decision': 1113, 'context': 1114, 'contains': 1115, 'obvious': 1116, 'gatech': 1117, 'europe': 1118, 'picture': 1119, 'physical': 1120, 'freenet': 1121, 'approach': 1122, 'shows': 1123, 'lower': 1124, 'pass': 1125, 'homosexual': 1126, 'giz': 1127, 'search': 1128, 'matthew': 1129, 'proof': 1130, 'roger': 1131, 'fonts': 1132, 'indiana': 1133, 'hands': 1134, 'friends': 1135, 'account': 1136, 'yeah': 1137, 'played': 1138, 'vga': 1139, 'minutes': 1140, 'eng': 1141, 'andy': 1142, 'middle': 1143, 'writing': 1144, 'mary': 1145, 'appear': 1146, 'islam': 1147, 'requires': 1148, 'names': 1149, 'ability': 1150, 'logic': 1151, 'resources': 1152, 'universe': 1153, 'natural': 1154, 'evil': 1155, 'choose': 1156, 'calls': 1157, 'costs': 1158, 'nsa': 1159, 'quote': 1160, 'secure': 1161, 'former': 1162, 'math': 1163, 'possibly': 1164, 'sandvik': 1165, 'harvard': 1166, 'cleveland': 1167, 'switch': 1168, 'material': 1169, 'shipping': 1170, 'basically': 1171, 'poor': 1172, 'authority': 1173, 'beyond': 1174, 'mailing': 1175, 'published': 1176, 'killing': 1177, 'block': 1178, 'heaven': 1179, 'caused': 1180, 'hey': 1181, 'posts': 1182, 'playing': 1183, 'regular': 1184, 'stay': 1185, 'protection': 1186, 'sys': 1187, 'civil': 1188, 'trust': 1189, 'starting': 1190, 'bnr': 1191, 'references': 1192, 'countries': 1193, 'student': 1194, 'van': 1195, 'somewhere': 1196, 'facts': 1197, 'features': 1198, 'comment': 1199, 'ten': 1200, 'treatment': 1201, 'tools': 1202, 'energy': 1203, 'beliefs': 1204, 'handle': 1205, 'sold': 1206, 'umd': 1207, 'held': 1208, 'pgp': 1209, 'prevent': 1210, 'fairly': 1211, 'provided': 1212, 'turned': 1213, 'regarding': 1214, 'loss': 1215, 'export': 1216, 'perfect': 1217, 'doctor': 1218, 'south': 1219, 'hot': 1220, 'effective': 1221, 'transfer': 1222, 'suspect': 1223, 'areas': 1224, 'compound': 1225, 'murder': 1226, 'realize': 1227, 'ucs': 1228, 'articles': 1229, 'pittsburgh': 1230, 'atf': 1231, 'march': 1232, 'print': 1233, 'bmw': 1234, 'tar': 1235, 'brown': 1236, 'option': 1237, 'practice': 1238, 'kent': 1239, 'wide': 1240, 'straight': 1241, 'cross': 1242, 'convert': 1243, 'kept': 1244, 'appreciate': 1245, 'changes': 1246, 'uni': 1247, 'college': 1248, 'firearms': 1249, 'soldiers': 1250, 'spirit': 1251, 'risk': 1252, 'pin': 1253, 'hello': 1254, 'increase': 1255, 'modern': 1256, 'misc': 1257, 'cancer': 1258, 'false': 1259, 'sites': 1260, 'greg': 1261, 'mot': 1262, 'adam': 1263, 'seriously': 1264, 'font': 1265, 'keyboard': 1266, 'xterm': 1267, 'auto': 1268, 'driving': 1269, 'reality': 1270, 'earlier': 1271, 'majority': 1272, 'personally': 1273, 'navy': 1274, 'fit': 1275, 'described': 1276, 'ride': 1277, 'closed': 1278, 'acts': 1279, 'multiple': 1280, 'types': 1281, 'pain': 1282, 'step': 1283, 'added': 1284, 'recall': 1285, 'shouldn': 1286, 'respect': 1287, 'education': 1288, 'supports': 1289, 'digex': 1290, 'purdue': 1291, 'rob': 1292, 'jack': 1293, 'electronic': 1294, 'developed': 1295, 'daniel': 1296, 'direct': 1297, 'surface': 1298, 'latest': 1299, 'effects': 1300, 'six': 1301, 'slow': 1302, 'holy': 1303, 'arguments': 1304, 'effort': 1305, 'buying': 1306, 'amiga': 1307, 'nec': 1308, 'justice': 1309, 'charge': 1310, 'remote': 1311, 'draw': 1312, 'setting': 1313, 'dept': 1314, 'colors': 1315, 'calling': 1316, 'absolutely': 1317, 'round': 1318, 'defined': 1319, 'born': 1320, 'standards': 1321, 'resolution': 1322, 'myers': 1323, 'notice': 1324, 'greatly': 1325, 'sexual': 1326, 'allows': 1327, 'patients': 1328, 'quick': 1329, 'nobody': 1330, 'share': 1331, 'william': 1332, 'msg': 1333, 'concerned': 1334, 'fair': 1335, 'assuming': 1336, 'amendment': 1337, 'begin': 1338, 'alan': 1339, 'beginning': 1340, 'paid': 1341, 'kevin': 1342, 'battery': 1343, 'morning': 1344, 'dealer': 1345, 'expensive': 1346, 'processing': 1347, 'mhz': 1348, 'rochester': 1349, 'dangerous': 1350, 'meant': 1351, 'proper': 1352, 'pages': 1353, 'spend': 1354, 'woman': 1355, 'safe': 1356, 'phil': 1357, 'jpl': 1358, 'arabs': 1359, 'besides': 1360, 'intended': 1361, 'std': 1362, 'postscript': 1363, 'moment': 1364, 'kids': 1365, 'utexas': 1366, 'social': 1367, 'behavior': 1368, 'flame': 1369, 'seeing': 1370, 'magazine': 1371, 'operation': 1372, 'bear': 1373, 'errors': 1374, 'radar': 1375, 'jason': 1376, 'bios': 1377, 'british': 1378, 'larry': 1379, 'satellite': 1380, 'fully': 1381, 'provides': 1382, 'compatible': 1383, 'serve': 1384, 'table': 1385, 'shell': 1386, 'judge': 1387, 'putting': 1388, 'lab': 1389, 'isa': 1390, 'clutch': 1391, 'owners': 1392, 'stick': 1393, 'signal': 1394, 'traffic': 1395, 'atheist': 1396, 'review': 1397, 'noticed': 1398, 'weight': 1399, 'wings': 1400, 'solar': 1401, 'actual': 1402, 'physics': 1403, 'crypto': 1404, 'islamic': 1405, 'newsgroups': 1406, 'gordon': 1407, 'random': 1408, 'austin': 1409, 'detroit': 1410, 'everybody': 1411, 'copies': 1412, 'tony': 1413, 'shown': 1414, 'merely': 1415, 'path': 1416, 'respond': 1417, 'statements': 1418, 'decide': 1419, 'selling': 1420, 'aware': 1421, 'install': 1422, 'mostly': 1423, 'pit': 1424, 'catholic': 1425, 'bell': 1426, 'lib': 1427, 'arizona': 1428, 'yesterday': 1429, 'optilink': 1430, 'fight': 1431, 'agency': 1432, 'receive': 1433, 'scripture': 1434, 'medicine': 1435, 'criminals': 1436, 'master': 1437, 'heat': 1438, 'ford': 1439, 'macintosh': 1440, 'compared': 1441, 'impossible': 1442, 'host': 1443, 'towards': 1444, 'passed': 1445, 'moving': 1446, 'vote': 1447, 'entirely': 1448, 'zip': 1449, 'athena': 1450, 'espn': 1451, 'thousands': 1452, 'parents': 1453, 'corp': 1454, 'english': 1455, 'failed': 1456, 'multi': 1457, 'count': 1458, 'agencies': 1459, 'options': 1460, 'rec': 1461, 'messages': 1462, 'planet': 1463, 'produce': 1464, 'los': 1465, 'concept': 1466, 'town': 1467, 'azerbaijan': 1468, 'eyes': 1469, 'totally': 1470, 'agents': 1471, 'computers': 1472, 'forces': 1473, 'forward': 1474, 'ready': 1475, 'expected': 1476, 'thread': 1477, 'objects': 1478, 'connection': 1479, 'regards': 1480, 'jobs': 1481, 'external': 1482, 'ball': 1483, 'flames': 1484, 'models': 1485, 'versions': 1486, 'cold': 1487, 'additional': 1488, 'accepted': 1489, 'speaking': 1490, 'fix': 1491, 'admit': 1492, 'greater': 1493, 'activities': 1494, 'bruce': 1495, 'isc': 1496, 'european': 1497, 'committee': 1498, 'sky': 1499, 'eternal': 1500, 'supported': 1501, 'fear': 1502, 'highly': 1503, 'eye': 1504, 'easier': 1505, 'separate': 1506, 'warning': 1507, 'aids': 1508, 'vancouver': 1509, 'vehicle': 1510, 'property': 1511, 'foreign': 1512, 'rates': 1513, 'brain': 1514, 'bunch': 1515, 'fun': 1516, 'iastate': 1517, 'whom': 1518, 'percent': 1519, 'brad': 1520, 'throw': 1521, 'claimed': 1522, 'star': 1523, 'shots': 1524, 'functions': 1525, 'race': 1526, 'marc': 1527, 'dog': 1528, 'athos': 1529, 'document': 1530, 'spot': 1531, 'sunday': 1532, 'pressure': 1533, 'luck': 1534, 'ice': 1535, 'hall': 1536, 'prefer': 1537, 'upgrade': 1538, 'simms': 1539, 'meg': 1540, 'soul': 1541, 'became': 1542, 'rich': 1543, 'keeping': 1544, 'wire': 1545, 'ryan': 1546, 'tek': 1547, 'knowing': 1548, 'nation': 1549, 'status': 1550, 'morris': 1551, 'humans': 1552, 'nazi': 1553, 'attacks': 1554, 'popular': 1555, 'valid': 1556, 'larger': 1557, 'beat': 1558, 'wall': 1559, 'welcome': 1560, 'fred': 1561, 'expressed': 1562, 'armed': 1563, 'guide': 1564, 'domain': 1565, 'udel': 1566, 'german': 1567, 'advantage': 1568, 'trial': 1569, 'nuclear': 1570, 'audio': 1571, 'circuit': 1572, 'serdar': 1573, 'training': 1574, 'industry': 1575, 'duke': 1576, 'summary': 1577, 'prism': 1578, 'cis': 1579, 'leaders': 1580, 'style': 1581, 'lose': 1582, 'magnus': 1583, 'setup': 1584, 'craig': 1585, 'resource': 1586, 'innocent': 1587, 'weapon': 1588, 'computing': 1589, 'miller': 1590, 'conclusion': 1591, 'background': 1592, 'tool': 1593, 'instance': 1594, 'allen': 1595, 'century': 1596, 'disagree': 1597, 'ahead': 1598, 'seemed': 1599, 'coverage': 1600, 'okay': 1601, 'showed': 1602, 'causes': 1603, 'visual': 1604, 'argic': 1605, 'telephone': 1606, 'piece': 1607, 'ted': 1608, 'formats': 1609, 'livesey': 1610, 'steven': 1611, 'tend': 1612, 'proposed': 1613, 'somehow': 1614, 'prices': 1615, 'chi': 1616, 'escape': 1617, 'drop': 1618, 'missing': 1619, 'existing': 1620, 'criminal': 1621, 'yours': 1622, 'uchicago': 1623, 'meet': 1624, 'potential': 1625, 'absolute': 1626, 'released': 1627, 'role': 1628, 'argue': 1629, 'load': 1630, 'billion': 1631, 'lived': 1632, 'purchase': 1633, 'rose': 1634, 'politics': 1635, 'license': 1636, 'russia': 1637, 'watching': 1638, 'monitors': 1639, 'uxa': 1640, 'management': 1641, 'rangers': 1642, 'goals': 1643, 'wayne': 1644, 'summer': 1645, 'eventually': 1646, 'quickly': 1647, 'culture': 1648, 'offers': 1649, 'client': 1650, 'positive': 1651, 'editor': 1652, 'noise': 1653, 'rocket': 1654, 'minor': 1655, 'proposal': 1656, 'attitude': 1657, 'listen': 1658, 'limit': 1659, 'clean': 1660, 'boards': 1661, 'clayton': 1662, 'attention': 1663, 'sign': 1664, 'heavy': 1665, 'solid': 1666, 'properly': 1667, 'spacecraft': 1668, 'typical': 1669, 'character': 1670, 'flight': 1671, 'examples': 1672, 'changing': 1673, 'warrant': 1674, 'ecn': 1675, 'anywhere': 1676, 'pre': 1677, 'committed': 1678, 'store': 1679, 'pictures': 1680, 'central': 1681, 'determine': 1682, 'braves': 1683, 'older': 1684, 'riding': 1685, 'worst': 1686, 'gmt': 1687, 'frame': 1688, 'angeles': 1689, 'feet': 1690, 'sick': 1691, 'alive': 1692, 'grant': 1693, 'ran': 1694, 'began': 1695, 'definitely': 1696, 'pixel': 1697, 'hst': 1698, 'leafs': 1699, 'troops': 1700, 'spent': 1701, 'helps': 1702, 'med': 1703, 'cult': 1704, 'cornell': 1705, 'professor': 1706, 'bank': 1707, 'economic': 1708, 'leads': 1709, 'levels': 1710, 'topic': 1711, 'stats': 1712, 'encrypted': 1713, 'active': 1714, 'believed': 1715, 'degree': 1716, 'despite': 1717, 'papers': 1718, 'biblical': 1719, 'matt': 1720, 'postings': 1721, 'nearly': 1722, 'purposes': 1723, 'tech': 1724, 'tank': 1725, 'normally': 1726, 'banks': 1727, 'remove': 1728, 'owner': 1729, 'douglas': 1730, 'follows': 1731, 'speech': 1732, 'creation': 1733, 'activity': 1734, 'onto': 1735, 'connected': 1736, 'huge': 1737, 'waste': 1738, 'operating': 1739, 'update': 1740, 'depends': 1741, 'silver': 1742, 'somewhat': 1743, 'rick': 1744, 'usr': 1745, 'georgia': 1746, 'session': 1747, 'complex': 1748, 'fault': 1749, 'hasn': 1750, 'damage': 1751, 'martin': 1752, 'june': 1753, 'telling': 1754, 'reach': 1755, 'thoughts': 1756, 'factor': 1757, 'spencer': 1758, 'exact': 1759, 'bodies': 1760, 'afraid': 1761, 'capable': 1762, 'eat': 1763, 'music': 1764, 'automatic': 1765, 'doctrine': 1766, 'button': 1767, 'cache': 1768, 'pointed': 1769, 'historical': 1770, 'jose': 1771, 'hole': 1772, 'equal': 1773, 'waiting': 1774, 'louis': 1775, 'toward': 1776, 'bosnia': 1777, 'discuss': 1778, 'johnson': 1779, 'mon': 1780, 'direction': 1781, 'uci': 1782, 'suggested': 1783, 'associated': 1784, 'default': 1785, 'daily': 1786, 'compare': 1787, 'saturn': 1788, 'mcgill': 1789, 'movement': 1790, 'nick': 1791, 'edge': 1792, 'slightly': 1793, 'damn': 1794, 'followed': 1795, 'obtain': 1796, 'rider': 1797, 'branch': 1798, 'fighting': 1799, 'saved': 1800, 'feeling': 1801, 'montreal': 1802, 'methods': 1803, 'structure': 1804, 'sport': 1805, 'replace': 1806, 'lie': 1807, 'usual': 1808, 'male': 1809, 'park': 1810, 'weren': 1811, 'minute': 1812, 'iii': 1813, 'missed': 1814, 'strange': 1815, 'dark': 1816, 'winning': 1817, 'penalty': 1818, 'length': 1819, 'vms': 1820, 'bet': 1821, 'curious': 1822, 'perry': 1823, 'gotten': 1824, 'patrick': 1825, 'truly': 1826, 'virtual': 1827, 'newton': 1828, 'dale': 1829, 'eff': 1830, 'chz': 1831, 'club': 1832, 'tradition': 1833, 'raised': 1834, 'correctly': 1835, 'legitimate': 1836, 'broken': 1837, 'showing': 1838, 'drawing': 1839, 'scale': 1840, 'zone': 1841, 'imho': 1842, 'honda': 1843, 'app': 1844, 'cdt': 1845, 'carried': 1846, 'mistake': 1847, 'violence': 1848, 'employer': 1849, 'recognize': 1850, 'hurt': 1851, 'generation': 1852, 'fuel': 1853, 'shareware': 1854, 'location': 1855, 'adl': 1856, 'assault': 1857, 'applied': 1858, 'semi': 1859, 'hiv': 1860, 'leading': 1861, 'funny': 1862, 'lists': 1863, 'starts': 1864, 'rear': 1865, 'brand': 1866, 'vice': 1867, 'adobe': 1868, 'processor': 1869, 'success': 1870, 'mountain': 1871, 'felt': 1872, 'presented': 1873, 'desire': 1874, 'blame': 1875, 'select': 1876, 'det': 1877, 'deaths': 1878, 'becomes': 1879, 'defend': 1880, 'recommend': 1881, 'gods': 1882, 'umich': 1883, 'feature': 1884, 'upenn': 1885, 'bxn': 1886, 'ncsu': 1887, 'meeting': 1888, 'replaced': 1889, 'quoted': 1890, 'distance': 1891, 'csd': 1892, 'notes': 1893, 'engineer': 1894, 'cheaper': 1895, 'sales': 1896, 'canadian': 1897, 'cops': 1898, 'expansion': 1899, 'jake': 1900, 'percentage': 1901, 'tests': 1902, 'poster': 1903, 'terminal': 1904, 'packages': 1905, 'australia': 1906, 'villages': 1907, 'join': 1908, 'worry': 1909, 'smaller': 1910, 'electrical': 1911, 'quadra': 1912, 'readers': 1913, 'militia': 1914, 'develop': 1915, 'track': 1916, 'taxes': 1917, 'playoff': 1918, 'roads': 1919, 'moved': 1920, 'stopped': 1921, 'powerful': 1922, 'cheers': 1923, 'maynard': 1924, 'parallel': 1925, 'cal': 1926, 'grace': 1927, 'randy': 1928, 'refer': 1929, 'seconds': 1930, 'pull': 1931, 'wave': 1932, 'psu': 1933, 'operations': 1934, 'draft': 1935, 'lies': 1936, 'core': 1937, 'conditions': 1938, 'scheme': 1939, 'zero': 1940, 'fixed': 1941, 'bottom': 1942, 'carl': 1943, 'playoffs': 1944, 'boy': 1945, 'hearing': 1946, 'noted': 1947, 'twice': 1948, 'null': 1949, 'bos': 1950, 'cco': 1951, 'ethernet': 1952, 'conflict': 1953, 'documents': 1954, 'nazis': 1955, 'measure': 1956, 'extremely': 1957, 'int': 1958, 'religions': 1959, 'seattle': 1960, 'bytes': 1961, 'diet': 1962, 'ancient': 1963, 'brother': 1964, 'officers': 1965, 'finding': 1966, 'hour': 1967, 'motorcycle': 1968, 'compuserve': 1969, 'gateway': 1970, 'cambridge': 1971, 'frequently': 1972, 'francisco': 1973, 'punishment': 1974, 'accurate': 1975, 'students': 1976, 'primary': 1977, 'excuse': 1978, 'prior': 1979, 'advanced': 1980, 'bush': 1981, 'opposed': 1982, 'nyx': 1983, 'benefit': 1984, 'tells': 1985, 'doctors': 1986, 'sports': 1987, 'shooting': 1988, 'channel': 1989, 'dollars': 1990, 'zoo': 1991, 'marriage': 1992, 'diamond': 1993, 'contrib': 1994, 'abuse': 1995, 'pens': 1996, 'guilty': 1997, 'discovered': 1998, 'hardly': 1999, 'lock': 2000, 'responses': 2001, 'staff': 2002, 'reaction': 2003, 'menu': 2004, 'turns': 2005, 'happening': 2006, 'hitting': 2007, 'surprised': 2008, 'sides': 2009, 'covered': 2010, 'ignore': 2011, 'hospital': 2012, 'island': 2013, 'caught': 2014, 'director': 2015, 'relevant': 2016, 'super': 2017, 'items': 2018, 'backup': 2019, 'string': 2020, 'aaron': 2021, 'turbo': 2022, 'intel': 2023, 'journal': 2024, 'consistent': 2025, 'edward': 2026, 'budget': 2027, 'gain': 2028, 'ncr': 2029, 'utility': 2030, 'stars': 2031, 'mars': 2032, 'civilians': 2033, 'greece': 2034, 'adams': 2035, 'sending': 2036, 'nations': 2037, 'statistics': 2038, 'remain': 2039, 'loaded': 2040, 'protected': 2041, 'sample': 2042, 'discussed': 2043, 'probe': 2044, 'tiff': 2045, 'sea': 2046, 'debate': 2047, 'seven': 2048, 'cool': 2049, 'visible': 2050, 'reduce': 2051, 'surely': 2052, 'secretary': 2053, 'learned': 2054, 'listed': 2055, 'sleep': 2056, 'annual': 2057, 'score': 2058, 'acceptable': 2059, 'carleton': 2060, 'conversion': 2061, 'connect': 2062, 'walk': 2063, 'named': 2064, 'carrying': 2065, 'astronomy': 2066, 'decent': 2067, 'japanese': 2068, 'blues': 2069, 'floor': 2070, 'regard': 2071, 'sam': 2072, 'stanley': 2073, 'hundred': 2074, 'occur': 2075, 'stories': 2076, 'addresses': 2077, 'tanks': 2078, 'forced': 2079, 'checked': 2080, 'database': 2081, 'alaska': 2082, 'jehovah': 2083, 'credit': 2084, 'venus': 2085, 'minnesota': 2086, 'programmer': 2087, 'centris': 2088, 'xview': 2089, 'widgets': 2090, 'lunar': 2091, 'sets': 2092, 'village': 2093, 'reliable': 2094, 'shoot': 2095, 'clients': 2096, 'cities': 2097, 'perfectly': 2098, 'sitting': 2099, 'bikes': 2100, 'atlanta': 2101, 'pts': 2102, 'jonathan': 2103, 'kinds': 2104, 'relatively': 2105, 'weak': 2106, 'latter': 2107, 'dean': 2108, 'portal': 2109, 'bruins': 2110, 'replies': 2111, 'survivors': 2112, 'fired': 2113, 'printing': 2114, 'wiretap': 2115, 'reasoning': 2116, 'fail': 2117, 'degrees': 2118, 'occupied': 2119, 'plain': 2120, 'anymore': 2121, 'threat': 2122, 'minority': 2123, 'depending': 2124, 'demon': 2125, 'root': 2126, 'announced': 2127, 'aid': 2128, 'colostate': 2129, 'originally': 2130, 'candida': 2131, 'holding': 2132, 'animals': 2133, 'shift': 2134, 'ports': 2135, 'pitcher': 2136, 'uga': 2137, 'region': 2138, 'ucsd': 2139, 'fly': 2140, 'kings': 2141, 'princeton': 2142, 'attorney': 2143, 'tor': 2144, 'boot': 2145, 'devils': 2146, 'byte': 2147, 'concerning': 2148, 'map': 2149, 'overall': 2150, 'bay': 2151, 'patient': 2152, 'motorola': 2153, 'laser': 2154, 'wright': 2155, 'lcs': 2156, 'satan': 2157, 'enter': 2158, 'manner': 2159, 'detector': 2160, 'mathew': 2161, 'deep': 2162, 'link': 2163, 'officials': 2164, 'tear': 2165, 'vision': 2166, 'wheel': 2167, 'vax': 2168, 'plug': 2169, 'toolkit': 2170, 'vitamin': 2171, 'initial': 2172, 'driven': 2173, 'regardless': 2174, 'neutral': 2175, 'produced': 2176, 'split': 2177, 'commands': 2178, 'ati': 2179, 'rsa': 2180, 'leader': 2181, 'hence': 2182, 'sig': 2183, 'canon': 2184, 'heads': 2185, 'border': 2186, 'aside': 2187, 'lets': 2188, 'thousand': 2189, 'roy': 2190, 'thinks': 2191, 'edition': 2192, 'situations': 2193, 'boxes': 2194, 'boeing': 2195, 'sony': 2196, 'pitching': 2197, 'providing': 2198, 'impact': 2199, 'spring': 2200, 'persons': 2201, 'shape': 2202, 'violent': 2203, 'bug': 2204, 'walker': 2205, 'laboratory': 2206, 'sas': 2207, 'wpi': 2208, 'wilson': 2209, 'adapter': 2210, 'buf': 2211, 'sternlight': 2212, 'wisdom': 2213, 'modified': 2214, 'talks': 2215, 'caps': 2216, 'senate': 2217, 'enjoy': 2218, 'placed': 2219, 'contain': 2220, 'career': 2221, 'concern': 2222, 'que': 2223, 'assumption': 2224, 'french': 2225, 'rice': 2226, 'sufficient': 2227, 'davis': 2228, 'panel': 2229, 'jupiter': 2230, 'claiming': 2231, 'holocaust': 2232, 'council': 2233, 'palestine': 2234, 'ordered': 2235, 'iran': 2236, 'unknown': 2237, 'crash': 2238, 'worship': 2239, 'tested': 2240, 'maintain': 2241, 'bat': 2242, 'parties': 2243, 'met': 2244, 'quotes': 2245, 'hitler': 2246, 'organized': 2247, 'shared': 2248, 'fields': 2249, 'units': 2250, 'challenge': 2251, 'rock': 2252, 'holes': 2253, 'chuck': 2254, 'honest': 2255, 'paragraph': 2256, 'serbs': 2257, 'apartment': 2258, 'umn': 2259, 'ticket': 2260, 'gerald': 2261, 'unc': 2262, 'jets': 2263, 'equivalent': 2264, 'israelis': 2265, 'standing': 2266, 'push': 2267, 'experts': 2268, 'throughout': 2269, 'increased': 2270, 'sad': 2271, 'solutions': 2272, 'variety': 2273, 'biggest': 2274, 'paint': 2275, 'decisions': 2276, 'davidians': 2277, 'eisa': 2278, 'clark': 2279, 'comparison': 2280, 'orthodox': 2281, 'demand': 2282, 'pray': 2283, 'psuvm': 2284, 'motion': 2285, 'panix': 2286, 'sox': 2287, 'coach': 2288, 'min': 2289, 'puck': 2290, 'resistance': 2291, 'crimes': 2292, 'failure': 2293, 'familiar': 2294, 'logical': 2295, 'schools': 2296, 'ottoman': 2297, 'content': 2298, 'usc': 2299, 'bother': 2300, 'univ': 2301, 'foundation': 2302, 'flyers': 2303, 'mitre': 2304, 'desktop': 2305, 'yeast': 2306, 'xlib': 2307, 'passes': 2308, 'jew': 2309, 'wisc': 2310, 'pope': 2311, 'rid': 2312, 'helmet': 2313, 'displays': 2314, 'cat': 2315, 'convex': 2316, 'arc': 2317, 'echo': 2318, 'hitter': 2319, 'massacre': 2320, 'origin': 2321, 'attempts': 2322, 'burning': 2323, 'jhu': 2324, 'funds': 2325, 'careful': 2326, 'stolen': 2327, 'kenneth': 2328, 'fidonet': 2329, 'wood': 2330, 'phones': 2331, 'nist': 2332, 'houston': 2333, 'voltage': 2334, 'packet': 2335, 'stage': 2336, 'unlike': 2337, 'plans': 2338, 'closer': 2339, 'figures': 2340, 'istanbul': 2341, 'remains': 2342, 'carefully': 2343, 'chain': 2344, 'suggestion': 2345, 'removed': 2346, 'jones': 2347, 'sit': 2348, 'mechanism': 2349, 'doc': 2350, 'fnal': 2351, 'letters': 2352, 'hundreds': 2353, 'republic': 2354, 'planning': 2355, 'controlled': 2356, 'techniques': 2357, 'dictionary': 2358, 'july': 2359, 'spread': 2360, 'extended': 2361, 'contrary': 2362, 'production': 2363, 'lawrence': 2364, 'vlb': 2365, 'davidian': 2366, 'returned': 2367, 'defensive': 2368, 'leaving': 2369, 'item': 2370, 'occurs': 2371, 'strongly': 2372, 'burns': 2373, 'jerry': 2374, 'russell': 2375, 'frequency': 2376, 'fpu': 2377, 'burned': 2378, 'sdpa': 2379, 'wise': 2380, 'prepared': 2381, 'lewis': 2382, 'generate': 2383, 'ontario': 2384, 'apart': 2385, 'highest': 2386, 'shaft': 2387, 'servers': 2388, 'fee': 2389, 'gamma': 2390, 'msdos': 2391, 'agreed': 2392, 'dealing': 2393, 'supposedly': 2394, 'incident': 2395, 'offered': 2396, 'ottawa': 2397, 'sec': 2398, 'forever': 2399, 'entries': 2400, 'modes': 2401, 'stereo': 2402, 'utilities': 2403, 'shut': 2404, 'ourselves': 2405, 'shit': 2406, 'appeared': 2407, 'illinois': 2408, 'agreement': 2409, 'containing': 2410, 'proven': 2411, 'literature': 2412, 'murray': 2413, 'infection': 2414, 'band': 2415, 'perform': 2416, 'maximum': 2417, 'engines': 2418, 'rpi': 2419, 'anderson': 2420, 'lights': 2421, 'allowing': 2422, 'stone': 2423, 'stuck': 2424, 'ring': 2425, 'handling': 2426, 'cubs': 2427, 'index': 2428, 'dseg': 2429, 'informatik': 2430, 'tcp': 2431, 'london': 2432, 'february': 2433, 'positions': 2434, 'greeks': 2435, 'stream': 2436, 'talked': 2437, 'primarily': 2438, 'obtained': 2439, 'chapter': 2440, 'libraries': 2441, 'wins': 2442, 'testament': 2443, 'protocol': 2444, 'converter': 2445, 'patch': 2446, 'repeat': 2447, 'sweden': 2448, 'eight': 2449, 'yale': 2450, 'paying': 2451, 'penguins': 2452, 'colour': 2453, 'hopefully': 2454, 'improve': 2455, 'pitch': 2456, 'plenty': 2457, 'acid': 2458, 'sharks': 2459, 'revelation': 2460, 'holland': 2461, 'december': 2462, 'signed': 2463, 'fat': 2464, 'checking': 2465, 'picked': 2466, 'prime': 2467, 'continued': 2468, 'foot': 2469, 'testing': 2470, 'luke': 2471, 'scored': 2472, 'slave': 2473, 'destroyed': 2474, 'eastern': 2475, 'lay': 2476, 'afford': 2477, 'plane': 2478, 'ensure': 2479, 'baby': 2480, 'raise': 2481, 'express': 2482, 'silly': 2483, 'cursor': 2484, 'helpful': 2485, 'cycle': 2486, 'col': 2487, 'symptoms': 2488, 'motor': 2489, 'wiring': 2490, 'reno': 2491, 'portable': 2492, 'successful': 2493, 'forms': 2494, 'ignorance': 2495, 'era': 2496, 'ethnic': 2497, 'movie': 2498, 'france': 2499, 'officer': 2500, 'aspects': 2501, 'temple': 2502, 'capability': 2503, 'shop': 2504, 'uwo': 2505, 'viewer': 2506, 'survey': 2507, 'vesa': 2508, 'ufl': 2509, 'todd': 2510, 'unable': 2511, 'battle': 2512, 'records': 2513, 'england': 2514, 'scientists': 2515, 'utk': 2516, 'newsletter': 2517, 'southern': 2518, 'presence': 2519, 'describe': 2520, 'granted': 2521, 'relations': 2522, 'previously': 2523, 'baltimore': 2524, 'kingdom': 2525, 'matters': 2526, 'surprise': 2527, 'agent': 2528, 'atmosphere': 2529, 'match': 2530, 'storage': 2531, 'jsc': 2532, 'winnipeg': 2533, 'clh': 2534, 'suffering': 2535, 'millions': 2536, 'target': 2537, 'victims': 2538, 'helped': 2539, 'reached': 2540, 'managed': 2541, 'glad': 2542, 'deny': 2543, 'wild': 2544, 'collection': 2545, 'buffer': 2546, 'flat': 2547, 'gear': 2548, 'seat': 2549, 'florida': 2550, 'networks': 2551, 'bar': 2552, 'arm': 2553, 'burn': 2554, 'rational': 2555, 'citizen': 2556, 'bigger': 2557, 'mirror': 2558, 'graham': 2559, 'amp': 2560, 'scoring': 2561, 'apps': 2562, 'mouth': 2563, 'answered': 2564, 'convince': 2565, 'irvine': 2566, 'churches': 2567, 'stands': 2568, 'chief': 2569, 'efforts': 2570, 'tough': 2571, 'requests': 2572, 'extension': 2573, 'kit': 2574, 'watson': 2575, 'linux': 2576, 'routines': 2577, 'geb': 2578, 'divine': 2579, 'believes': 2580, 'elements': 2581, 'lying': 2582, 'favor': 2583, 'kuwait': 2584, 'fill': 2585, 'genesis': 2586, 'quebec': 2587, 'japan': 2588, 'stored': 2589, 'amateur': 2590, 'slower': 2591, 'gaza': 2592, 'adding': 2593, 'lucky': 2594, 'explained': 2595, 'spiritual': 2596, 'online': 2597, 'determined': 2598, 'leland': 2599, 'accident': 2600, 'specs': 2601, 'settings': 2602, 'slot': 2603, 'gld': 2604, 'drag': 2605, 'blind': 2606, 'philosophy': 2607, 'metal': 2608, 'taught': 2609, 'whenever': 2610, 'spending': 2611, 'animation': 2612, 'verse': 2613, 'ripem': 2614, 'catch': 2615, 'purchased': 2616, 'liberal': 2617, 'convinced': 2618, 'ship': 2619, 'offense': 2620, 'depth': 2621, 'manuals': 2622, 'hudson': 2623, 'jerusalem': 2624, 'fourth': 2625, 'fellow': 2626, 'mid': 2627, 'union': 2628, 'followers': 2629, 'indicate': 2630, 'harm': 2631, 'learning': 2632, 'phoenix': 2633, 'engr': 2634, 'lehigh': 2635, 'pop': 2636, 'swap': 2637, 'forsale': 2638, 'feds': 2639, 'islanders': 2640, 'duty': 2641, 'capital': 2642, 'utoronto': 2643, 'detail': 2644, 'superior': 2645, 'tires': 2646, 'lady': 2647, 'sean': 2648, 'oakland': 2649, 'monash': 2650, 'justify': 2651, 'empire': 2652, 'fifth': 2653, 'teach': 2654, 'chosen': 2655, 'dogs': 2656, 'touch': 2657, 'sequence': 2658, 'plastic': 2659, 'speeds': 2660, 'duo': 2661, 'wars': 2662, 'terrorism': 2663, 'neighbors': 2664, 'exchange': 2665, 'bosnian': 2666, 'practical': 2667, 'hill': 2668, 'lance': 2669, 'unlikely': 2670, 'stock': 2671, 'corner': 2672, 'wind': 2673, 'quit': 2674, 'simon': 2675, 'understood': 2676, 'apollo': 2677, 'camera': 2678, 'rush': 2679, 'janet': 2680, 'algorithms': 2681, 'clinical': 2682, 'neighbor': 2683, 'offensive': 2684, 'northern': 2685, 'critical': 2686, 'generated': 2687, 'birth': 2688, 'wear': 2689, 'chemical': 2690, 'characters': 2691, 'giants': 2692, 'dealers': 2693, 'tie': 2694, 'referring': 2695, 'signature': 2696, 'relative': 2697, 'jump': 2698, 'elsewhere': 2699, 'seas': 2700, 'dcs': 2701, 'usage': 2702, 'seek': 2703, 'irrelevant': 2704, 'ass': 2705, 'rushdie': 2706, 'ends': 2707, 'missions': 2708, 'jackson': 2709, 'components': 2710, 'uoknor': 2711, 'cam': 2712, 'wustl': 2713, 'connector': 2714, 'jays': 2715, 'nyi': 2716, 'orders': 2717, 'served': 2718, 'teaching': 2719, 'roman': 2720, 'associate': 2721, 'gold': 2722, 'keeps': 2723, 'planned': 2724, 'believing': 2725, 'beta': 2726, 'screw': 2727, 'astro': 2728, 'solve': 2729, 'applies': 2730, 'august': 2731, 'reflect': 2732, 'reverse': 2733, 'focus': 2734, 'wonderful': 2735, 'sins': 2736, 'harris': 2737, 'morgan': 2738, 'nubus': 2739, 'mormon': 2740, 'judgement': 2741, 'suicide': 2742, 'represent': 2743, 'sciences': 2744, 'finger': 2745, 'interests': 2746, 'dare': 2747, 'exe': 2748, 'friday': 2749, 'global': 2750, 'hits': 2751, 'nra': 2752, 'sentence': 2753, 'contents': 2754, 'turning': 2755, 'chances': 2756, 'principles': 2757, 'progress': 2758, 'ultra': 2759, 'eating': 2760, 'economy': 2761, 'selected': 2762, 'fails': 2763, 'abc': 2764, 'favorite': 2765, 'unto': 2766, 'loop': 2767, 'calgary': 2768, 'bonds': 2769, 'tapes': 2770, 'theism': 2771, 'verses': 2772, 'firearm': 2773, 'handgun': 2774, 'crowd': 2775, 'carter': 2776, 'projects': 2777, 'impression': 2778, 'rape': 2779, 'hallam': 2780, 'owned': 2781, 'feed': 2782, 'permission': 2783, 'saves': 2784, 'vnet': 2785, 'platforms': 2786, 'midway': 2787, 'maine': 2788, 'svga': 2789, 'ramsey': 2790, 'bmp': 2791, 'becoming': 2792, 'constant': 2793, 'strip': 2794, 'dear': 2795, 'principle': 2796, 'scientist': 2797, 'immediate': 2798, 'approved': 2799, 'treat': 2800, 'married': 2801, 'universal': 2802, 'mask': 2803, 'detailed': 2804, 'controls': 2805, 'jay': 2806, 'gonna': 2807, 'tamu': 2808, 'thanx': 2809, 'bugs': 2810, 'marketing': 2811, 'rlk': 2812, 'harry': 2813, 'performed': 2814, 'identical': 2815, 'accounts': 2816, 'treated': 2817, 'minds': 2818, 'minimum': 2819, 'rit': 2820, 'batteries': 2821, 'schedule': 2822, 'plays': 2823, 'cobb': 2824, 'lebanese': 2825, 'destroy': 2826, 'drink': 2827, 'crazy': 2828, 'finish': 2829, 'smart': 2830, 'visit': 2831, 'confused': 2832, 'authors': 2833, 'sub': 2834, 'bradley': 2835, 'archives': 2836, 'saturday': 2837, 'williams': 2838, 'oracle': 2839, 'ranch': 2840, 'lebanon': 2841, 'propaganda': 2842, 'daughter': 2843, 'useless': 2844, 'opposite': 2845, 'suddenly': 2846, 'fool': 2847, 'located': 2848, 'intent': 2849, 'odd': 2850, 'negative': 2851, 'amazing': 2852, 'assembly': 2853, 'contract': 2854, 'behanna': 2855, 'wpd': 2856, 'stat': 2857, 'ahl': 2858, 'thrown': 2859, 'referred': 2860, 'proceeded': 2861, 'azeri': 2862, 'forgot': 2863, 'senior': 2864, 'january': 2865, 'crap': 2866, 'policies': 2867, 'scores': 2868, 'equally': 2869, 'imply': 2870, 'skin': 2871, 'dick': 2872, 'batting': 2873, 'stealth': 2874, 'belong': 2875, 'procedure': 2876, 'drawn': 2877, 'tonight': 2878, 'extreme': 2879, 'brake': 2880, 'flying': 2881, 'angels': 2882, 'rise': 2883, 'grand': 2884, 'prayer': 2885, 'developing': 2886, 'gene': 2887, 'comm': 2888, 'demo': 2889, 'allan': 2890, 'sabres': 2891, 'baalke': 2892, 'hoping': 2893, 'nine': 2894, 'printed': 2895, 'msu': 2896, 'surrender': 2897, 'converted': 2898, 'liberty': 2899, 'accuracy': 2900, 'widely': 2901, 'autos': 2902, 'newer': 2903, 'bobby': 2904, 'idle': 2905, 'exercise': 2906, 'factors': 2907, 'geneva': 2908, 'truck': 2909, 'numerous': 2910, 'mainly': 2911, 'miss': 2912, 'thou': 2913, 'jet': 2914, 'technique': 2915, 'classified': 2916, 'warranty': 2917, 'detectors': 2918, 'tommy': 2919, 'dma': 2920, 'bitmap': 2921, 'sunos': 2922, 'phrase': 2923, 'henrik': 2924, 'discussing': 2925, 'dream': 2926, 'reduced': 2927, 'rain': 2928, 'filled': 2929, 'cash': 2930, 'joke': 2931, 'passing': 2932, 'task': 2933, 'jersey': 2934, 'ames': 2935, 'imaging': 2936, 'igc': 2937, 'holds': 2938, 'passage': 2939, 'attached': 2940, 'creating': 2941, 'bases': 2942, 'causing': 2943, 'register': 2944, 'tube': 2945, 'gsfc': 2946, 'vram': 2947, 'flow': 2948, 'supreme': 2949, 'opening': 2950, 'danger': 2951, 'empty': 2952, 'copyright': 2953, 'ingr': 2954, 'smoke': 2955, 'macs': 2956, 'mercury': 2957, 'elohim': 2958, 'humanity': 2959, 'strike': 2960, 'wing': 2961, 'apparent': 2962, 'supporting': 2963, 'dropped': 2964, 'resulting': 2965, 'alchemy': 2966, 'blow': 2967, 'weekend': 2968, 'pool': 2969, 'subscribe': 2970, 'labs': 2971, 'nmsu': 2972, 'mets': 2973, 'stl': 2974, 'hide': 2975, 'height': 2976, 'terrible': 2977, 'baker': 2978, 'wearing': 2979, 'trip': 2980, 'ban': 2981, 'charges': 2982, 'concrete': 2983, 'signals': 2984, 'stable': 2985, 'uwaterloo': 2986, 'binary': 2987, 'colormap': 2988, 'wolverine': 2989, 'tomorrow': 2990, 'cultural': 2991, 'husband': 2992, 'involve': 2993, 'virtually': 2994, 'houses': 2995, 'opened': 2996, 'parent': 2997, 'facility': 2998, 'affect': 2999, 'clarkson': 3000, 'laurentian': 3001, 'civilian': 3002, 'minister': 3003, 'finished': 3004, 'sfu': 3005, 'nelson': 3006, 'jan': 3007, 'indicates': 3008, 'slip': 3009, 'ignorant': 3010, 'attacked': 3011, 'pair': 3012, 'planes': 3013, 'pure': 3014, 'fell': 3015, 'ended': 3016, 'witnesses': 3017, 'promise': 3018, 'extent': 3019, 'chose': 3020, 'abortion': 3021, 'weird': 3022, 'hughes': 3023, 'handheld': 3024, 'lemieux': 3025, 'prb': 3026, 'suffered': 3027, 'assumed': 3028, 'karabakh': 3029, 'broke': 3030, 'arthur': 3031, 'awful': 3032, 'guarantee': 3033, 'selection': 3034, 'dont': 3035, 'senator': 3036, 'vehicles': 3037, 'describes': 3038, 'traded': 3039, 'cray': 3040, 'taylor': 3041, 'risc': 3042, 'modems': 3043, 'solntze': 3044, 'mormons': 3045, 'goalie': 3046, 'galaxy': 3047, 'ought': 3048, 'broadcast': 3049, 'newspaper': 3050, 'howard': 3051, 'tree': 3052, 'sector': 3053, 'thor': 3054, 'revealed': 3055, 'greatest': 3056, 'chronic': 3057, 'vol': 3058, 'identify': 3059, 'till': 3060, 'sells': 3061, 'limits': 3062, 'legally': 3063, 'suite': 3064, 'exit': 3065, 'receiver': 3066, 'film': 3067, 'harder': 3068, 'tapped': 3069, 'diego': 3070, 'kid': 3071, 'timothy': 3072, 'ama': 3073, 'hook': 3074, 'bryan': 3075, 'compressed': 3076, 'brett': 3077, 'orbital': 3078, 'aurora': 3079, 'bomb': 3080, 'jumper': 3081, 'entered': 3082, 'signs': 3083, 'letting': 3084, 'mitchell': 3085, 'notion': 3086, 'reasonably': 3087, 'centre': 3088, 'penalties': 3089, 'losing': 3090, 'quantum': 3091, 'experiment': 3092, 'closely': 3093, 'pattern': 3094, 'importance': 3095, 'char': 3096, 'santa': 3097, 'vendor': 3098, 'presumably': 3099, 'toyota': 3100, 'mustang': 3101, 'magic': 3102, 'config': 3103, 'satellites': 3104, 'mov': 3105, 'zuma': 3106, 'deserve': 3107, 'terrorist': 3108, 'terrorists': 3109, 'continues': 3110, 'counter': 3111, 'establish': 3112, 'incorrect': 3113, 'ins': 3114, 'exception': 3115, 'beings': 3116, 'suffer': 3117, 'insert': 3118, 'chem': 3119, 'hmmm': 3120, 'pins': 3121, 'polygon': 3122, 'edmonton': 3123, 'territory': 3124, 'wam': 3125, 'header': 3126, 'knock': 3127, 'acns': 3128, 'fund': 3129, 'pete': 3130, 'measures': 3131, 'square': 3132, 'suggests': 3133, 'ain': 3134, 'romans': 3135, 'immoral': 3136, 'typically': 3137, 'trick': 3138, 'phase': 3139, 'funding': 3140, 'compile': 3141, 'salvation': 3142, 'animal': 3143, 'weather': 3144, 'gospel': 3145, 'kaldis': 3146, 'apc': 3147, 'baku': 3148, 'spoke': 3149, 'similarly': 3150, 'votes': 3151, 'powers': 3152, 'electric': 3153, 'balance': 3154, 'snow': 3155, 'forth': 3156, 'sake': 3157, 'stewart': 3158, 'acc': 3159, 'classic': 3160, 'quicktime': 3161, 'syndrome': 3162, 'tuesday': 3163, 'ordinary': 3164, 'leadership': 3165, 'classes': 3166, 'formed': 3167, 'profit': 3168, 'concerns': 3169, 'soc': 3170, 'utah': 3171, 'beach': 3172, 'pack': 3173, 'injury': 3174, 'callison': 3175, 'cellular': 3176, 'dyer': 3177, 'urartu': 3178, 'sat': 3179, 'watched': 3180, 'grounds': 3181, 'amounts': 3182, 'benefits': 3183, 'academic': 3184, 'expert': 3185, 'spare': 3186, 'cells': 3187, 'loving': 3188, 'camp': 3189, 'laugh': 3190, 'assertion': 3191, 'witness': 3192, 'bin': 3193, 'surgery': 3194, 'hypothesis': 3195, 'viking': 3196, 'diseases': 3197, 'crypt': 3198, 'veal': 3199, 'cipher': 3200, 'hebrew': 3201, 'pieces': 3202, 'huh': 3203, 'membership': 3204, 'permanent': 3205, 'issued': 3206, 'registered': 3207, 'chinese': 3208, 'routine': 3209, 'edit': 3210, 'dry': 3211, 'uic': 3212, 'gant': 3213, 'everywhere': 3214, 'tired': 3215, 'assistance': 3216, 'compromise': 3217, 'cnn': 3218, 'monday': 3219, 'ira': 3220, 'forum': 3221, 'ridiculous': 3222, 'boulder': 3223, 'mile': 3224, 'listening': 3225, 'captain': 3226, 'materials': 3227, 'essential': 3228, 'ericsson': 3229, 'variable': 3230, 'mario': 3231, 'nih': 3232, 'iraq': 3233, 'informed': 3234, 'campaign': 3235, 'ministry': 3236, 'gap': 3237, 'hmm': 3238, 'michigan': 3239, 'severe': 3240, 'falls': 3241, 'micro': 3242, 'fits': 3243, 'updated': 3244, 'finland': 3245, 'filter': 3246, 'derek': 3247, 'francis': 3248, 'jaeger': 3249, 'baptism': 3250, 'prince': 3251, 'famous': 3252, 'hatred': 3253, 'sumgait': 3254, 'soft': 3255, 'bound': 3256, 'repeated': 3257, 'compiled': 3258, 'lake': 3259, 'practices': 3260, 'hidden': 3261, 'cook': 3262, 'balls': 3263, 'wires': 3264, 'spec': 3265, 'barry': 3266, 'sparc': 3267, 'iisi': 3268, 'icon': 3269, 'govt': 3270, 'launched': 3271, 'initiative': 3272, 'brothers': 3273, 'refused': 3274, 'orion': 3275, 'influence': 3276, 'photo': 3277, 'sorts': 3278, 'remaining': 3279, 'alexander': 3280, 'taste': 3281, 'observed': 3282, 'void': 3283, 'converting': 3284, 'sabbath': 3285, 'higgins': 3286, 'reserve': 3287, 'gravity': 3288, 'norton': 3289, 'rgb': 3290, 'virus': 3291, 'planetary': 3292, 'roby': 3293, 'siggraph': 3294, 'cpr': 3295, 'nose': 3296, 'ohanus': 3297, 'quiet': 3298, 'tied': 3299, 'reads': 3300, 'viewing': 3301, 'junk': 3302, 'receiving': 3303, 'craft': 3304, 'oriented': 3305, 'portion': 3306, 'bellcore': 3307, 'rent': 3308, 'login': 3309, 'blah': 3310, 'appearance': 3311, 'hacker': 3312, 'scheduled': 3313, 'teachings': 3314, 'rtsg': 3315, 'uicvm': 3316, 'larc': 3317, 'okz': 3318, 'breaking': 3319, 'netters': 3320, 'doors': 3321, 'steel': 3322, 'workers': 3323, 'labor': 3324, 'recognized': 3325, 'dying': 3326, 'reform': 3327, 'pulled': 3328, 'plate': 3329, 'arrogance': 3330, 'detect': 3331, 'massive': 3332, 'passages': 3333, 'repair': 3334, 'pitchers': 3335, 'subjective': 3336, 'irq': 3337, 'log': 3338, 'edm': 3339, 'texts': 3340, 'ini': 3341, 'handguns': 3342, 'appressian': 3343, 'puts': 3344, 'heck': 3345, 'whoever': 3346, 'injuries': 3347, 'gulf': 3348, 'leaves': 3349, 'unique': 3350, 'ian': 3351, 'inch': 3352, 'rev': 3353, 'valve': 3354, 'analog': 3355, 'cop': 3356, 'gregg': 3357, 'printers': 3358, 'phillies': 3359, 'comics': 3360, 'precisely': 3361, 'crack': 3362, 'bony': 3363, 'worried': 3364, 'theories': 3365, 'raid': 3366, 'strategy': 3367, 'centers': 3368, 'highway': 3369, 'josh': 3370, 'roughly': 3371, 'thru': 3372, 'platform': 3373, 'desy': 3374, 'efficient': 3375, 'brent': 3376, 'biz': 3377, 'dennis': 3378, 'alcohol': 3379, 'messiah': 3380, 'denning': 3381, 'beautiful': 3382, 'removing': 3383, 'comparable': 3384, 'writer': 3385, 'scan': 3386, 'bull': 3387, 'firm': 3388, 'regularly': 3389, 'custom': 3390, 'commonly': 3391, 'behaviour': 3392, 'spectrum': 3393, 'devil': 3394, 'archie': 3395, 'propulsion': 3396, 'ann': 3397, 'schneider': 3398, 'commit': 3399, 'sera': 3400, 'upper': 3401, 'evening': 3402, 'cyprus': 3403, 'speaker': 3404, 'implement': 3405, 'existed': 3406, 'justified': 3407, 'thursday': 3408, 'linked': 3409, 'hal': 3410, 'bullock': 3411, 'topics': 3412, 'rely': 3413, 'gerard': 3414, 'unusual': 3415, 'sco': 3416, 'vary': 3417, 'tower': 3418, 'atari': 3419, 'cad': 3420, 'qax': 3421, 'leo': 3422, 'ben': 3423, 'borders': 3424, 'girls': 3425, 'travel': 3426, 'native': 3427, 'revolution': 3428, 'dual': 3429, 'alot': 3430, 'occurred': 3431, 'hawks': 3432, 'talent': 3433, 'mph': 3434, 'rogers': 3435, 'winner': 3436, 'terry': 3437, 'quack': 3438, 'simm': 3439, 'evolution': 3440, 'larson': 3441, 'mccall': 3442, 'friendly': 3443, 'slaughter': 3444, 'throwing': 3445, 'murphy': 3446, 'girl': 3447, 'reject': 3448, 'feels': 3449, 'attempting': 3450, 'aircraft': 3451, 'rare': 3452, 'steps': 3453, 'tickets': 3454, 'manage': 3455, 'berlin': 3456, 'circle': 3457, 'intend': 3458, 'switches': 3459, 'erik': 3460, 'silicon': 3461, 'powerbook': 3462, 'ics': 3463, 'correction': 3464, 'chemistry': 3465, 'stan': 3466, 'dwyer': 3467, 'adaptec': 3468, 'xdm': 3469, 'russians': 3470, 'pointing': 3471, 'strength': 3472, 'roll': 3473, 'temporary': 3474, 'refuse': 3475, 'conspiracy': 3476, 'bright': 3477, 'prison': 3478, 'threw': 3479, 'purely': 3480, 'joel': 3481, 'cell': 3482, 'blocks': 3483, 'ascii': 3484, 'whereas': 3485, 'bandwidth': 3486, 'avenue': 3487, 'sheet': 3488, 'tap': 3489, 'beast': 3490, 'dot': 3491, 'tue': 3492, 'planets': 3493, 'gopher': 3494, 'covington': 3495, 'comet': 3496, 'directed': 3497, 'improved': 3498, 'depend': 3499, 'gang': 3500, 'arguing': 3501, 'anthony': 3502, 'violation': 3503, 'implies': 3504, 'investment': 3505, 'proud': 3506, 'properties': 3507, 'bullet': 3508, 'arrogant': 3509, 'vast': 3510, 'warren': 3511, 'unm': 3512, 'clue': 3513, 'mental': 3514, 'facilities': 3515, 'flash': 3516, 'bag': 3517, 'tire': 3518, 'ksu': 3519, 'conner': 3520, 'ghost': 3521, 'maple': 3522, 'calpoly': 3523, 'fuhr': 3524, 'foods': 3525, 'derived': 3526, 'guard': 3527, 'television': 3528, 'cares': 3529, 'affected': 3530, 'mutual': 3531, 'explicitly': 3532, 'psychology': 3533, 'campus': 3534, 'complain': 3535, 'hadn': 3536, 'freely': 3537, 'partners': 3538, 'array': 3539, 'acsu': 3540, 'dartmouth': 3541, 'clone': 3542, 'produces': 3543, 'alpha': 3544, 'module': 3545, 'aix': 3546, 'cdc': 3547, 'occupation': 3548, 'murdered': 3549, 'sahak': 3550, 'melkonian': 3551, 'families': 3552, 'promised': 3553, 'rocks': 3554, 'mistakes': 3555, 'preferred': 3556, 'albert': 3557, 'increasing': 3558, 'busy': 3559, 'factory': 3560, 'gee': 3561, 'ratio': 3562, 'listing': 3563, 'specified': 3564, 'alex': 3565, 'capacity': 3566, 'antenna': 3567, 'pds': 3568, 'megs': 3569, 'hamilton': 3570, 'scriptures': 3571, 'palmer': 3572, 'nsmca': 3573, 'kurds': 3574, 'grade': 3575, 'pushed': 3576, 'beating': 3577, 'liar': 3578, 'sir': 3579, 'beer': 3580, 'element': 3581, 'shadow': 3582, 'burst': 3583, 'handed': 3584, 'grey': 3585, 'morals': 3586, 'growth': 3587, 'sho': 3588, 'gnu': 3589, 'radius': 3590, 'eliot': 3591, 'timing': 3592, 'pyramid': 3593, 'dev': 3594, 'ave': 3595, 'andre': 3596, 'telescope': 3597, 'ico': 3598, 'fij': 3599, 'gtoal': 3600, 'species': 3601, 'mamma': 3602, 'relief': 3603, 'supporters': 3604, 'danny': 3605, 'paranoid': 3606, 'enemy': 3607, 'yassin': 3608, 'healthy': 3609, 'contained': 3610, 'category': 3611, 'artificial': 3612, 'mount': 3613, 'rendering': 3614, 'concepts': 3615, 'enet': 3616, 'patches': 3617, 'vertical': 3618, 'horizontal': 3619, 'alomar': 3620, 'kinsey': 3621, 'liked': 3622, 'realized': 3623, 'cunixb': 3624, 'route': 3625, 'valuable': 3626, 'stupidity': 3627, 'trials': 3628, 'golden': 3629, 'passenger': 3630, 'arbitrary': 3631, 'confusion': 3632, 'mileage': 3633, 'stronger': 3634, 'choices': 3635, 'theology': 3636, 'infinite': 3637, 'infante': 3638, 'novell': 3639, 'dal': 3640, 'pixels': 3641, 'cica': 3642, 'strnlght': 3643, 'dividian': 3644, 'feelings': 3645, 'democratic': 3646, 'warm': 3647, 'survive': 3648, 'consent': 3649, 'phill': 3650, 'biased': 3651, 'conclude': 3652, 'gregory': 3653, 'combined': 3654, 'zealand': 3655, 'prophet': 3656, 'contest': 3657, 'mix': 3658, 'irrational': 3659, 'dumb': 3660, 'optional': 3661, 'password': 3662, 'gilmour': 3663, 'rwing': 3664, 'mcovingt': 3665, 'hulk': 3666, 'zionism': 3667, 'hair': 3668, 'achieve': 3669, 'codes': 3670, 'azeris': 3671, 'boys': 3672, 'arrived': 3673, 'protecting': 3674, 'burden': 3675, 'grow': 3676, 'executive': 3677, 'appeal': 3678, 'bullets': 3679, 'dir': 3680, 'operate': 3681, 'raw': 3682, 'naturally': 3683, 'publicly': 3684, 'cutting': 3685, 'norway': 3686, 'lane': 3687, 'installing': 3688, 'width': 3689, 'startup': 3690, 'carson': 3691, 'catalog': 3692, 'ucsc': 3693, 'benedikt': 3694, 'brief': 3695, 'suit': 3696, 'identity': 3697, 'ignored': 3698, 'charlie': 3699, 'conduct': 3700, 'november': 3701, 'lawyer': 3702, 'wow': 3703, 'row': 3704, 'script': 3705, 'fish': 3706, 'walter': 3707, 'kidney': 3708, 'neil': 3709, 'dreams': 3710, 'graphic': 3711, 'static': 3712, 'ross': 3713, 'trw': 3714, 'cts': 3715, 'linear': 3716, 'osf': 3717, 'csc': 3718, 'circuits': 3719, 'nyr': 3720, 'therapy': 3721, 'mcrcim': 3722, 'moses': 3723, 'attacking': 3724, 'hung': 3725, 'arromdee': 3726, 'dispute': 3727, 'centuries': 3728, 'silence': 3729, 'guaranteed': 3730, 'freeman': 3731, 'europeans': 3732, 'accepting': 3733, 'licensed': 3734, 'reader': 3735, 'horrible': 3736, 'suck': 3737, 'density': 3738, 'increases': 3739, 'horse': 3740, 'sections': 3741, 'feb': 3742, 'probes': 3743, 'angle': 3744, 'nwu': 3745, 'mirrors': 3746, 'compiler': 3747, 'readme': 3748, 'mantis': 3749, 'nichols': 3750, 'titan': 3751, 'oilers': 3752, 'plaintext': 3753, 'racism': 3754, 'mess': 3755, 'expose': 3756, 'coast': 3757, 'ulowell': 3758, 'dust': 3759, 'charged': 3760, 'sail': 3761, 'mad': 3762, 'complaints': 3763, 'galileo': 3764, 'tends': 3765, 'extensions': 3766, 'ads': 3767, 'pad': 3768, 'ups': 3769, 'telnet': 3770, 'fsu': 3771, 'zionist': 3772, 'rarely': 3773, 'agenda': 3774, 'bias': 3775, 'dirty': 3776, 'female': 3777, 'victim': 3778, 'involves': 3779, 'dozen': 3780, 'incredibly': 3781, 'remark': 3782, 'gray': 3783, 'analogy': 3784, 'cage': 3785, 'cia': 3786, 'cherry': 3787, 'domestic': 3788, 'upset': 3789, 'den': 3790, 'seats': 3791, 'sensitive': 3792, 'qur': 3793, 'procedures': 3794, 'cactus': 3795, 'component': 3796, 'gui': 3797, 'fallacy': 3798, 'nrhj': 3799, 'proved': 3800, 'specify': 3801, 'targets': 3802, 'opposition': 3803, 'glass': 3804, 'affairs': 3805, 'graduate': 3806, 'asks': 3807, 'acting': 3808, 'writings': 3809, 'pilot': 3810, 'brings': 3811, 'saving': 3812, 'tight': 3813, 'gen': 3814, 'crew': 3815, 'mounted': 3816, 'physician': 3817, 'suitable': 3818, 'bucks': 3819, 'modify': 3820, 'campbell': 3821, 'lindros': 3822, 'noring': 3823, 'phigs': 3824, 'egypt': 3825, 'tries': 3826, 'switching': 3827, 'ownership': 3828, 'minimal': 3829, 'wednesday': 3830, 'entitled': 3831, 'teacher': 3832, 'substance': 3833, 'serves': 3834, 'returns': 3835, 'remarks': 3836, 'cloud': 3837, 'introduced': 3838, 'observer': 3839, 'idiot': 3840, 'britain': 3841, 'submit': 3842, 'screwed': 3843, 'stones': 3844, 'boost': 3845, 'kelvin': 3846, 'ubc': 3847, 'anonymity': 3848, 'dallas': 3849, 'mechanical': 3850, 'inches': 3851, 'timer': 3852, 'hayes': 3853, 'parameters': 3854, 'selanne': 3855, 'cite': 3856, 'ece': 3857, 'nowhere': 3858, 'literally': 3859, 'interpret': 3860, 'encourage': 3861, 'whatsoever': 3862, 'guidelines': 3863, 'continuing': 3864, 'scope': 3865, 'constantly': 3866, 'singer': 3867, 'impressed': 3868, 'ltd': 3869, 'thats': 3870, 'hints': 3871, 'instrument': 3872, 'mag': 3873, 'donald': 3874, 'pascal': 3875, 'scanner': 3876, 'pcs': 3877, 'deskjet': 3878, 'infections': 3879, 'theists': 3880, 'tavares': 3881, 'jmd': 3882, 'hicnet': 3883, 'nonsense': 3884, 'moscow': 3885, 'operator': 3886, 'moves': 3887, 'ankara': 3888, 'walking': 3889, 'figured': 3890, 'identified': 3891, 'mvp': 3892, 'emphasis': 3893, 'broad': 3894, 'malcolm': 3895, 'einstein': 3896, 'ralph': 3897, 'lonestar': 3898, 'hawaii': 3899, 'binaries': 3900, 'oulu': 3901, 'rbi': 3902, 'canucks': 3903, 'borland': 3904, 'pixmap': 3905, 'stein': 3906, 'denied': 3907, 'loose': 3908, 'dbd': 3909, 'plant': 3910, 'samuel': 3911, 'livni': 3912, 'begins': 3913, 'risks': 3914, 'maintained': 3915, 'attempted': 3916, 'louisville': 3917, 'typing': 3918, 'seeking': 3919, 'dialog': 3920, 'ideal': 3921, 'angry': 3922, 'accidents': 3923, 'displayed': 3924, 'permit': 3925, 'kinda': 3926, 'cables': 3927, 'dscomsa': 3928, 'delete': 3929, 'eos': 3930, 'lciii': 3931, 'yankees': 3932, 'phi': 3933, 'pluto': 3934, 'rkba': 3935, 'glory': 3936, 'grab': 3937, 'iron': 3938, 'escaped': 3939, 'predict': 3940, 'winter': 3941, 'rejected': 3942, 'income': 3943, 'tiny': 3944, 'dirt': 3945, 'documented': 3946, 'arrest': 3947, 'contribute': 3948, 'brakes': 3949, 'aka': 3950, 'annoying': 3951, 'acceptance': 3952, 'easter': 3953, 'customers': 3954, 'mapping': 3955, 'tobacco': 3956, 'moslem': 3957, 'searching': 3958, 'badly': 3959, 'walls': 3960, 'cited': 3961, 'absurd': 3962, 'italy': 3963, 'indians': 3964, 'rubber': 3965, 'handled': 3966, 'interrupt': 3967, 'wounded': 3968, 'refers': 3969, 'garbage': 3970, 'ill': 3971, 'award': 3972, 'helping': 3973, 'loved': 3974, 'pushing': 3975, 'uniform': 3976, 'stood': 3977, 'criteria': 3978, 'minorities': 3979, 'largest': 3980, 'drove': 3981, 'subjects': 3982, 'october': 3983, 'robinson': 3984, 'heavily': 3985, 'magazines': 3986, 'adults': 3987, 'cbnewsj': 3988, 'speakers': 3989, 'gcc': 3990, 'trace': 3991, 'taurus': 3992, 'steering': 3993, 'geometry': 3994, 'neat': 3995, 'cooling': 3996, 'logo': 3997, 'raster': 3998, 'cdrom': 3999, 'fancy': 4000, 'democracy': 4001, 'kpc': 4002, 'athens': 4003, 'largely': 4004, 'adult': 4005, 'oac': 4006, 'firing': 4007, 'publish': 4008, 'landing': 4009, 'jefferson': 4010, 'gift': 4011, 'widespread': 4012, 'addressed': 4013, 'indicated': 4014, 'bed': 4015, 'ignoring': 4016, 'alleged': 4017, 'magnetic': 4018, 'emotional': 4019, 'fewer': 4020, 'imo': 4021, 'stevens': 4022, 'county': 4023, 'ham': 4024, 'thermal': 4025, 'lds': 4026, 'asd': 4027, 'cure': 4028, 'managers': 4029, 'neal': 4030, 'okstate': 4031, 'aspect': 4032, 'yugoslavia': 4033, 'capture': 4034, 'theodore': 4035, 'virgin': 4036, 'catholics': 4037, 'homes': 4038, 'growing': 4039, 'hat': 4040, 'buildings': 4041, 'interview': 4042, 'exhaust': 4043, 'priest': 4044, 'testimony': 4045, 'murders': 4046, 'belt': 4047, 'plot': 4048, 'processes': 4049, 'ott': 4050, 'cylinder': 4051, 'beam': 4052, 'radiation': 4053, 'preferably': 4054, 'div': 4055, 'vendors': 4056, 'docs': 4057, 'philips': 4058, 'scorer': 4059, 'dee': 4060, 'imake': 4061, 'jordan': 4062, 'headed': 4063, 'strictly': 4064, 'defending': 4065, 'anger': 4066, 'responding': 4067, 'deals': 4068, 'bombing': 4069, 'comparing': 4070, 'represents': 4071, 'blessed': 4072, 'harmful': 4073, 'bird': 4074, 'ultimate': 4075, 'dependent': 4076, 'extensive': 4077, 'concealed': 4078, 'sharp': 4079, 'rockets': 4080, 'medium': 4081, 'evans': 4082, 'joint': 4083, 'inner': 4084, 'wheels': 4085, 'batman': 4086, 'consumer': 4087, 'chen': 4088, 'ccwf': 4089, 'socket': 4090, 'osrhe': 4091, 'click': 4092, 'roberts': 4093, 'beck': 4094, 'pov': 4095})\n",
            "4096\n"
          ],
          "name": "stdout"
        }
      ]
    },
    {
      "cell_type": "markdown",
      "metadata": {
        "id": "OL7KDD5nwbVG",
        "colab_type": "text"
      },
      "source": [
        "### 1.3 Bag-of-Words representation\n",
        "\n",
        "The simplest way to represent a document $D$ as a vector $V$ would be to now count the relevant words in the document. \n",
        "\n",
        "For each document, make a vector of the count of each of the words in the vocabulary (excluding the words removed in the previous step - the \"stopwords\")."
      ]
    },
    {
      "cell_type": "code",
      "metadata": {
        "id": "hmPFrRWfwbVH",
        "colab_type": "code",
        "colab": {}
      },
      "source": [
        "def convert_to_BoW(dataset, number_of_documents):\n",
        "    bow_representation = np.zeros((number_of_documents, number_of_words))\n",
        "    labels = np.zeros((number_of_documents, 1))\n",
        "    # print(dataset)\n",
        "    i = 0\n",
        "    for label, class_name in enumerate(dataset):\n",
        "        # For each file\n",
        "        for files in dataset[class_name]:\n",
        "          for sentences in files:\n",
        "            words=sentences.split()\n",
        "            for word in words:\n",
        "              if word in valid_words.keys():\n",
        "                bow_representation[i][valid_words[word]]+=1\n",
        "           # Read text from each file and create BoW representations for them.\n",
        "          i+=1\n",
        "    return bow_representation, labels\n",
        "\n",
        "# Convert the dataset into their bag of words representation treating train and test separately\n",
        "train_bow_set, train_bow_labels = convert_to_BoW(train_set, n_train)\n",
        "test_bow_set, test_bow_labels = convert_to_BoW(test_set, n_test)"
      ],
      "execution_count": 0,
      "outputs": []
    },
    {
      "cell_type": "markdown",
      "metadata": {
        "id": "b2L9gwfXwbVI",
        "colab_type": "text"
      },
      "source": [
        "### 1.4 Document classification using Bag-of-Words\n",
        "\n",
        "For the test documents, use your favorite distance metric (Cosine, Eucilidean, etc.) to find similar news articles from your training set and classify using kNN."
      ]
    },
    {
      "cell_type": "code",
      "metadata": {
        "id": "hGen5XWiwbVK",
        "colab_type": "code",
        "colab": {}
      },
      "source": [
        "# Optimized K-NN:- This does the same thing as you've learned but in an optimized manner\n",
        "def dist(train_features, given_feature):\n",
        "    # Calculate euclidea distaces between the training feature set and the given feature\n",
        "    # Try and optimise this calculation using in built numpy functions rather than for loops\n",
        "    distances= np.sqrt(np.sum(np.abs(np.square(train_features)-np.square(given_feature)),axis=0))\n",
        "    return distances\n",
        "\n",
        "''' \n",
        " Optimized K-NN code. This code is the same as what you've already seen, but trades off memory efficency \n",
        " for computational efficency. \n",
        "'''\n",
        "def kNN(k, train_features, train_labels, given_feature):\n",
        "    distances = []\n",
        "    \n",
        "    n = train_features.shape[0]\n",
        "    \n",
        "    # np.tile function repeats the given_feature n times.\n",
        "    given_feature = np.tile(given_feature, (n, 1))\n",
        "    \n",
        "    # Compute distance\n",
        "    distances = dist(train_features, given_feature)\n",
        "    sort_neighbors = np.argsort(distances)\n",
        "    return np.concatenate((distances[sort_neighbors][:k].reshape(-1, 1), train_labels[sort_neighbors][:k].reshape(-1, 1)), axis = 1)\n",
        "\n",
        "def kNN_classify(k, train_features, train_labels, given_feature):\n",
        "    tally = collections.Counter()\n",
        "    tally.update(str(int(nn[1])) for nn in kNN(k, train_features, train_labels, given_feature))\n",
        "    return int(tally.most_common(1)[0][0])"
      ],
      "execution_count": 0,
      "outputs": []
    },
    {
      "cell_type": "markdown",
      "metadata": {
        "id": "p1oZ_fMvwbVL",
        "colab_type": "text"
      },
      "source": [
        "For example, using 3 nearest neighbours, the $0^{th}$ test document is classified as:"
      ]
    },
    {
      "cell_type": "markdown",
      "metadata": {
        "id": "oUjby7ObwbVN",
        "colab_type": "text"
      },
      "source": [
        "Computing accuracy for the bag-of-words features on the full test set:"
      ]
    },
    {
      "cell_type": "code",
      "metadata": {
        "id": "bjxqR2gUwbVO",
        "colab_type": "code",
        "colab": {
          "base_uri": "https://localhost:8080/",
          "height": 17
        },
        "outputId": "240a3500-4c12-4f3c-afed-c8b2b086b617"
      },
      "source": [
        "accuracy = 0\n",
        "for i, given_feature in enumerate(test_bow_set):\n",
        "    print(\"Progress: {0:.04f}\".format((i+1)/len(test_bow_set)), end=\"\\r\")\n",
        "    predicted_class = kNN_classify(3, train_bow_set, train_bow_labels, given_feature)\n",
        "    if predicted_class == int(test_bow_labels[i]):\n",
        "        accuracy += 1\n",
        "BoW_accuracy = (accuracy / len(test_bow_set))"
      ],
      "execution_count": 28,
      "outputs": [
        {
          "output_type": "stream",
          "text": [
            ""
          ],
          "name": "stdout"
        }
      ]
    },
    {
      "cell_type": "code",
      "metadata": {
        "id": "FJk9zGFMYe2G",
        "colab_type": "code",
        "colab": {
          "base_uri": "https://localhost:8080/",
          "height": 34
        },
        "outputId": "9dd88fa4-e26f-4b57-db03-58e2e8fd23ec"
      },
      "source": [
        "print(BoW_accuracy)"
      ],
      "execution_count": 29,
      "outputs": [
        {
          "output_type": "stream",
          "text": [
            "1.0\n"
          ],
          "name": "stdout"
        }
      ]
    }
  ]
}