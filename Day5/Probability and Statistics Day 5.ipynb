{
 "cells": [
  {
   "cell_type": "code",
   "execution_count": 1,
   "metadata": {},
   "outputs": [
    {
     "name": "stdout",
     "output_type": "stream",
     "text": [
      "[0.2, 0.2, 0.2, 0.2, 0.2]\n"
     ]
    },
    {
     "data": {
      "text/plain": [
       "[0.2, 0.2, 0.2, 0.2, 0.2]"
      ]
     },
     "execution_count": 1,
     "metadata": {},
     "output_type": "execute_result"
    }
   ],
   "source": [
    "import numpy as np\n",
    "# Modify the empty list, p, so that it becomes a UNIFORM probability\n",
    "# distribution over n grid cells, as expressed in a list of \n",
    "# n probabilities.\n",
    "def init_distribution(n):\n",
    "    p = []\n",
    "    # Add your code here\n",
    "    for i in range(5):\n",
    "        p.append(1.0/n)\n",
    "    # End your code here\n",
    "    print(p)\n",
    "    return p\n",
    "init_distribution(5)"
   ]
  },
  {
   "cell_type": "code",
   "execution_count": 2,
   "metadata": {},
   "outputs": [
    {
     "data": {
      "text/plain": [
       "[0.11111111111111112,\n",
       " 0.33333333333333337,\n",
       " 0.33333333333333337,\n",
       " 0.11111111111111112,\n",
       " 0.11111111111111112]"
      ]
     },
     "execution_count": 2,
     "metadata": {},
     "output_type": "execute_result"
    }
   ],
   "source": [
    "#Modify the code below so that the function sense, which \n",
    "#takes p and Z as inputs, will output the normalized \n",
    "#probability distribution, q, after multiplying the entries \n",
    "# in p according to the color in the corresponding cell in world,\n",
    "# followed by normalization of the probability values\n",
    "world=['green', 'red', 'red', 'green', 'green']\n",
    "p = [0.2, 0.2, 0.2, 0.2, 0.2]\n",
    "\n",
    "def sense(p, Z):\n",
    "    q = []\n",
    "    for i in range(5):\n",
    "        q.append(0.0)\n",
    "        if world[i] == Z:\n",
    "            q[i] = 0.75*p[i]\n",
    "        else:\n",
    "            q[i] = 0.25*p[i]\n",
    "    q=(np.asarray(q)/np.sum(np.asarray(q))).tolist()\n",
    "    return q\n",
    "            \n",
    "sense(p, 'red')"
   ]
  },
  {
   "cell_type": "code",
   "execution_count": 3,
   "metadata": {},
   "outputs": [
    {
     "name": "stdout",
     "output_type": "stream",
     "text": [
      "[0.11111111111111112, 0.33333333333333337, 0.33333333333333337, 0.11111111111111112, 0.11111111111111112]\n",
      "[0.19999999999999998, 0.19999999999999998, 0.19999999999999998, 0.19999999999999998, 0.19999999999999998]\n",
      "[0.19999999999999998, 0.19999999999999998, 0.19999999999999998, 0.19999999999999998, 0.19999999999999998]\n"
     ]
    }
   ],
   "source": [
    "#Modify the code so that it updates the probability twice\n",
    "#and gives the posterior distribution after both \n",
    "#measurements are incorporated. Make sure that your code \n",
    "#allows for any sequence of measurement of any length.\n",
    "\n",
    "# DO NOT MODIFY THE SENSE FUNCTION. JUST CALL THE SENSE FUNCTION APPROPRIATELY\n",
    "\n",
    "p=[0.2, 0.2, 0.2, 0.2, 0.2]\n",
    "world=['green', 'red', 'red', 'green', 'green']\n",
    "measurements = ['red', 'green']\n",
    "\n",
    "# Add your code here\n",
    "for i in measurements:\n",
    "    p = sense(p, i)\n",
    "    print(p)\n",
    "# End your code here\n",
    "print(p)"
   ]
  },
  {
   "cell_type": "code",
   "execution_count": 4,
   "metadata": {},
   "outputs": [],
   "source": [
    "#Program a function that returns a new distribution \n",
    "#q, shifted to the right by U units. If U=0, q should \n",
    "#be the same as p.\n",
    "\n",
    "# def move(p, U):\n",
    "#     q = []\n",
    "#     # ADD CODE HERE\n",
    "#     q = p[-U:] + p[:-U]\n",
    "#     # END CODE HERE\n",
    "#     return q\n",
    "\n",
    "# move([0.11, 0.33, 0.33, 0.11, 0.11], 1)"
   ]
  },
  {
   "cell_type": "markdown",
   "metadata": {},
   "source": [
    "$p'_a$ = $0.8 * $$p_{{a-x}\\mod5}$ $+ 0.1*$$p_{{a-1-x}\\mod5}$ $+ 0.1 * $$p_{{a+1-x}\\mod5}$"
   ]
  },
  {
   "cell_type": "code",
   "execution_count": 5,
   "metadata": {},
   "outputs": [
    {
     "data": {
      "text/plain": [
       "[0.0, 0.1, 0.8, 0.1, 0.0]"
      ]
     },
     "execution_count": 5,
     "metadata": {},
     "output_type": "execute_result"
    }
   ],
   "source": [
    "def move(p, U):\n",
    "    q = []\n",
    "    for i in range(5):\n",
    "        q.append(0.0)\n",
    "    # ADD CODE HERE\n",
    "    for i in range(5):\n",
    "        q[i] = 0.8*p[(i-U)%5] + 0.1*p[(i-U-1)%5] + 0.1*p[(i+1-U)%5]\n",
    "    # END CODE HERE\n",
    "    return q\n",
    "\n",
    "move([0, 1.0, 0, 0, 0], 1)"
   ]
  },
  {
   "cell_type": "code",
   "execution_count": 6,
   "metadata": {},
   "outputs": [
    {
     "data": {
      "text/plain": [
       "[0.010000000000000002,\n",
       " 0.010000000000000002,\n",
       " 0.16000000000000003,\n",
       " 0.6600000000000001,\n",
       " 0.16000000000000003]"
      ]
     },
     "execution_count": 6,
     "metadata": {},
     "output_type": "execute_result"
    }
   ],
   "source": [
    "# Write code that makes the robot move twice and then prints \n",
    "# out the resulting distribution, starting with the initial \n",
    "# distribution p = [0, 1, 0, 0, 0]\n",
    "\n",
    "# Call the function appropriately from here\n",
    "\n",
    "# ADD CODE HERE\n",
    "move(move([0, 1.0, 0, 0, 0], 1), 1)\n",
    "\n",
    "# END CODE HERE"
   ]
  },
  {
   "cell_type": "code",
   "execution_count": 7,
   "metadata": {},
   "outputs": [
    {
     "data": {
      "text/plain": [
       "[0.20000000000000365,\n",
       " 0.20000000000000373,\n",
       " 0.20000000000000365,\n",
       " 0.2000000000000035,\n",
       " 0.2000000000000035]"
      ]
     },
     "execution_count": 7,
     "metadata": {},
     "output_type": "execute_result"
    }
   ],
   "source": [
    "#write code that moves 1000 times and then prints the \n",
    "#resulting probability distribution.\n",
    "\n",
    "p = [0, 1, 0, 0, 0]\n",
    "# ADD CODE HERE\n",
    "\n",
    "for i in range(1000):\n",
    "    q = move(p, 1)\n",
    "    p = q\n",
    "\n",
    "# END CODE HERE\n",
    "p"
   ]
  },
  {
   "cell_type": "code",
   "execution_count": 8,
   "metadata": {},
   "outputs": [
    {
     "name": "stdout",
     "output_type": "stream",
     "text": [
      "[0.2, 0.2, 0.2, 0.2, 0.2]\n",
      "[0.11111111111111112, 0.33333333333333337, 0.33333333333333337, 0.11111111111111112, 0.11111111111111112]\n",
      "[0.11111111111111113, 0.13333333333333336, 0.31111111111111117, 0.31111111111111117, 0.13333333333333336]\n",
      "[0.15789473684210525, 0.06315789473684211, 0.14736842105263157, 0.4421052631578947, 0.18947368421052632]\n",
      "[0.21157894736842106, 0.15157894736842106, 0.08105263157894738, 0.16842105263157894, 0.38736842105263164]\n",
      "[0.21157894736842106, 0.15157894736842106, 0.08105263157894738, 0.16842105263157894, 0.38736842105263164]\n"
     ]
    }
   ],
   "source": [
    "#Given the list motions=[1,1] which means the robot \n",
    "#moves right and then right again, compute the posterior \n",
    "#distribution if the robot first senses red, then moves \n",
    "#right one, then senses green, then moves right again, \n",
    "#starting with a uniform prior distribution.\n",
    "\n",
    "world=['green', 'red', 'red', 'green', 'green']\n",
    "measurements = ['red', 'green']\n",
    "motions = [1,1]\n",
    "\n",
    "p = init_distribution(len(world))\n",
    "# ADD CODE HERE\n",
    "for i in range(2):\n",
    "    q = sense(p, measurements[i])\n",
    "    print(q)\n",
    "    q1 = move(q, motions[i])\n",
    "    print(q1)\n",
    "    p = q1\n",
    "print(p)"
   ]
  },
  {
   "cell_type": "code",
   "execution_count": null,
   "metadata": {},
   "outputs": [],
   "source": []
  }
 ],
 "metadata": {
  "kernelspec": {
   "display_name": "Python 3",
   "language": "python",
   "name": "python3"
  },
  "language_info": {
   "codemirror_mode": {
    "name": "ipython",
    "version": 3
   },
   "file_extension": ".py",
   "mimetype": "text/x-python",
   "name": "python",
   "nbconvert_exporter": "python",
   "pygments_lexer": "ipython3",
   "version": "3.7.3"
  }
 },
 "nbformat": 4,
 "nbformat_minor": 2
}
