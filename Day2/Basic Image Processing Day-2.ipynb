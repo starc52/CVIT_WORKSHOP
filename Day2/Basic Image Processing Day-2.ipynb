{
 "cells": [
  {
   "cell_type": "code",
   "execution_count": 1,
   "metadata": {},
   "outputs": [
    {
     "name": "stdout",
     "output_type": "stream",
     "text": [
      "Requirement already satisfied: opencv-python in ./.local/lib/python3.7/site-packages (4.2.0.34)\r\n",
      "Requirement already satisfied: numpy>=1.14.5 in ./.local/lib/python3.7/site-packages (from opencv-python) (1.18.1)\r\n"
     ]
    }
   ],
   "source": [
    "!pip3 install opencv-python "
   ]
  },
  {
   "cell_type": "code",
   "execution_count": 2,
   "metadata": {},
   "outputs": [],
   "source": [
    "import cv2\n",
    "import numpy as np\n",
    "import matplotlib.pyplot as plt"
   ]
  },
  {
   "cell_type": "markdown",
   "metadata": {},
   "source": [
    "### Ex 1 Lena.png read and print dimensions"
   ]
  },
  {
   "cell_type": "code",
   "execution_count": 3,
   "metadata": {},
   "outputs": [
    {
     "data": {
      "text/plain": [
       "(512, 512, 3)"
      ]
     },
     "execution_count": 3,
     "metadata": {},
     "output_type": "execute_result"
    }
   ],
   "source": [
    "img1 = cv2.imread('lena.png',cv2.IMREAD_UNCHANGED)\n",
    "img1.shape"
   ]
  },
  {
   "cell_type": "markdown",
   "metadata": {},
   "source": [
    "### Ex 1 chair.png read and print dimensions"
   ]
  },
  {
   "cell_type": "code",
   "execution_count": 4,
   "metadata": {},
   "outputs": [
    {
     "data": {
      "text/plain": [
       "(137, 137, 4)"
      ]
     },
     "execution_count": 4,
     "metadata": {},
     "output_type": "execute_result"
    }
   ],
   "source": [
    "img2 = cv2.imread('chair.png', cv2.IMREAD_UNCHANGED)\n",
    "img2.shape"
   ]
  },
  {
   "cell_type": "markdown",
   "metadata": {},
   "source": [
    "### Ex 2 Verify channels in chair.png"
   ]
  },
  {
   "cell_type": "code",
   "execution_count": 5,
   "metadata": {},
   "outputs": [
    {
     "data": {
      "text/plain": [
       "3"
      ]
     },
     "execution_count": 5,
     "metadata": {},
     "output_type": "execute_result"
    }
   ],
   "source": [
    "len(img2.shape)"
   ]
  },
  {
   "cell_type": "markdown",
   "metadata": {},
   "source": [
    "### Plot Mask of chair.png"
   ]
  },
  {
   "cell_type": "code",
   "execution_count": 6,
   "metadata": {},
   "outputs": [],
   "source": [
    "# cv2.imshow(\"mask\", img2[:,:,3])\n",
    "# cv2.waitKey(0)"
   ]
  },
  {
   "cell_type": "markdown",
   "metadata": {},
   "source": [
    "### Increase intensity of lena.png by 45 in grayscale"
   ]
  },
  {
   "cell_type": "code",
   "execution_count": 7,
   "metadata": {},
   "outputs": [],
   "source": [
    "img3 = cv2.imread('lena.png', cv2.IMREAD_GRAYSCALE)\n",
    "img3 = img3+45\n",
    "# cv2.imshow(\"lena2\",img3)\n",
    "# cv2.waitKey(0)"
   ]
  },
  {
   "cell_type": "markdown",
   "metadata": {},
   "source": [
    "### Corrected method for linear intensity increase"
   ]
  },
  {
   "cell_type": "code",
   "execution_count": 8,
   "metadata": {},
   "outputs": [],
   "source": [
    "img4 = cv2.imread('lena.png', cv2.IMREAD_GRAYSCALE).astype('int')\n",
    "img4 = np.clip((img4+45), 0, 255).astype('uint8')\n",
    "# cv2.imshow(\"lena2\",img4)\n",
    "# cv2.waitKey(0)"
   ]
  },
  {
   "cell_type": "markdown",
   "metadata": {},
   "source": [
    "### Task 1"
   ]
  },
  {
   "cell_type": "markdown",
   "metadata": {},
   "source": [
    "### Gamma transformation for gamma1.jpg"
   ]
  },
  {
   "cell_type": "code",
   "execution_count": null,
   "metadata": {},
   "outputs": [],
   "source": [
    "img5 = cv2.imread('gamma1.jpg', cv2.IMREAD_GRAYSCALE).astype('float')\n",
    "img5=np.divide(img5, 255)\n",
    "c=1\n",
    "gamma=6\n",
    "img5 =c*np.power(img5,gamma)\n",
    "img5=np.multiply(img5, 255).astype('uint8')\n",
    "# cv2.imshow(\"gamma1\",img5)\n",
    "# cv2.waitKey(0)\n"
   ]
  },
  {
   "cell_type": "markdown",
   "metadata": {},
   "source": [
    "### Gamma transformation for gamma2.jpg"
   ]
  },
  {
   "cell_type": "code",
   "execution_count": null,
   "metadata": {},
   "outputs": [],
   "source": [
    "img6 = cv2.imread('gamma2.jpg', cv2.IMREAD_GRAYSCALE).astype('float')\n",
    "img6=np.divide(img6, 255)\n",
    "c=1\n",
    "gamma=0.6\n",
    "img6 =c*np.power(img6,gamma)\n",
    "img6=np.multiply(img6, 255).astype('uint8')\n",
    "# cv2.imshow(\"gamma1\",img6)\n",
    "# cv2.waitKey(0)\n",
    "# cv2.destroyAllWindows()"
   ]
  },
  {
   "cell_type": "markdown",
   "metadata": {},
   "source": [
    "### Frequency Histogram Of an Image"
   ]
  },
  {
   "cell_type": "code",
   "execution_count": null,
   "metadata": {
    "scrolled": true
   },
   "outputs": [
    {
     "data": {
      "text/plain": [
       "<BarContainer object of 256 artists>"
      ]
     },
     "execution_count": 11,
     "metadata": {},
     "output_type": "execute_result"
    },
    {
     "data": {
      "image/png": "[encoded data removed]",
      "text/plain": [
       "<Figure size 432x288 with 1 Axes>"
      ]
     },
     "metadata": {
      "needs_background": "light"
     },
     "output_type": "display_data"
    }
   ],
   "source": [
    "img7 = cv2.imread('bell.jpg', cv2.IMREAD_GRAYSCALE)\n",
    "xAxis = [i for i in range(0, 256)]\n",
    "xAxis=np.asarray(xAxis)\n",
    "freq = np.zeros(256)\n",
    "for i in range(0, img7.shape[0]):\n",
    "    for j in range(0, img7.shape[1]):\n",
    "        freq[img7[i, j]]+=1\n",
    "%matplotlib inline\n",
    "plt.bar(xAxis, freq)"
   ]
  },
  {
   "cell_type": "markdown",
   "metadata": {},
   "source": [
    "### Simple Thresholding"
   ]
  },
  {
   "cell_type": "code",
   "execution_count": null,
   "metadata": {},
   "outputs": [
    {
     "data": {
      "text/plain": [
       "<BarContainer object of 256 artists>"
      ]
     },
     "execution_count": 12,
     "metadata": {},
     "output_type": "execute_result"
    },
    {
     "data": {
      "image/png": "[encoded data removed]",
      "text/plain": [
       "<Figure size 432x288 with 1 Axes>"
      ]
     },
     "metadata": {
      "needs_background": "light"
     },
     "output_type": "display_data"
    }
   ],
   "source": [
    "img8 = cv2.imread('bell.jpg', cv2.IMREAD_GRAYSCALE)\n",
    "xAxis = [i for i in range(0, 256)]\n",
    "xAxis=np.asarray(xAxis)\n",
    "freq = np.zeros(256)\n",
    "for i in range(0, img8.shape[0]):\n",
    "    for j in range(0, img8.shape[1]):\n",
    "        freq[img8[i, j]]+=1\n",
    "        if img8[i, j] > 135:\n",
    "            img8[i, j]=255\n",
    "        else:\n",
    "            img8[i, j]=0\n",
    "%matplotlib inline\n",
    "plt.bar(xAxis, freq)\n",
    "# cv2.imshow(\"bell threshold\",img8)\n",
    "# cv2.waitKey(0)\n",
    "# cv2.destroyAllWindows()\n"
   ]
  },
  {
   "cell_type": "markdown",
   "metadata": {},
   "source": [
    "### Shortcomings of Simple Thresholding"
   ]
  },
  {
   "cell_type": "code",
   "execution_count": null,
   "metadata": {},
   "outputs": [
    {
     "data": {
      "text/plain": [
       "<BarContainer object of 256 artists>"
      ]
     },
     "execution_count": 13,
     "metadata": {},
     "output_type": "execute_result"
    },
    {
     "data": {
      "image/png": "[encoded data removed]",
      "text/plain": [
       "<Figure size 432x288 with 1 Axes>"
      ]
     },
     "metadata": {
      "needs_background": "light"
     },
     "output_type": "display_data"
    }
   ],
   "source": [
    "img9 = cv2.imread('sudoku.jpeg', cv2.IMREAD_GRAYSCALE)\n",
    "xAxis = [i for i in range(0, 256)]\n",
    "xAxis=np.asarray(xAxis)\n",
    "freq = np.zeros(256)\n",
    "for i in range(0, img9.shape[0]):\n",
    "    for j in range(0, img9.shape[1]):\n",
    "        freq[img9[i, j]]+=1\n",
    "        if img9[i, j] > 55:\n",
    "            img9[i, j]=255\n",
    "        else:\n",
    "            img9[i, j]=0\n",
    "%matplotlib inline\n",
    "plt.bar(xAxis, freq)\n",
    "# cv2.imshow(\"sudoku threshold\",img9)\n",
    "# cv2.waitKey(0)\n",
    "# cv2.destroyAllWindows()\n"
   ]
  },
  {
   "cell_type": "markdown",
   "metadata": {},
   "source": [
    "### Convolution Filtering"
   ]
  },
  {
   "cell_type": "code",
   "execution_count": null,
   "metadata": {},
   "outputs": [],
   "source": [
    "img10 = cv2.imread('bell.jpg', cv2.IMREAD_GRAYSCALE)\n",
    "img11 = cv2.imread('bell.jpg', cv2.IMREAD_GRAYSCALE)\n",
    "mask = np.ones((3, 3))\n",
    "mask = mask/9\n",
    "for i in range(1, img10.shape[0]-1):\n",
    "    for j in range(1, img10.shape[1]-1):\n",
    "        temp=0\n",
    "        for k in range(-1, 2):\n",
    "            for m in range(-1, 2):\n",
    "                temp+=img10[i+k, j+m]*mask[1+k, 1+m]\n",
    "        img11[i, j] = temp\n",
    "# cv2.imshow(\"bell convolution\",img11)\n",
    "# cv2.waitKey(0)\n",
    "# cv2.destroyAllWindows()\n"
   ]
  },
  {
   "cell_type": "markdown",
   "metadata": {},
   "source": [
    "### Edge Detection:Sobel"
   ]
  },
  {
   "cell_type": "code",
   "execution_count": null,
   "metadata": {},
   "outputs": [
    {
     "name": "stdout",
     "output_type": "stream",
     "text": [
      "13\n",
      "9\n",
      "140\n"
     ]
    }
   ],
   "source": [
    "img12 = cv2.imread('window.jpeg', cv2.IMREAD_GRAYSCALE)\n",
    "mask_x = np.array([[-1, -2, -1], [0, 0, 0], [1, 2, 1]])\n",
    "mask_y = np.array([[-1, 0, 1], [-2, 0, 2], [-1, 0, 1]])\n",
    "x_filtered = cv2.filter2D(img12, -1, mask_x)\n",
    "\n",
    "#thresholding \n",
    "for i in range(0, x_filtered.shape[0]):\n",
    "    for j in range(0, x_filtered.shape[1]):\n",
    "        if x_filtered[i, j] > 150:\n",
    "            x_filtered[i, j]=255\n",
    "        else:\n",
    "            x_filtered[i, j]=0    \n",
    "\n",
    "#counting in y direction\n",
    "countX=0\n",
    "flagX=0\n",
    "for i in range(0, x_filtered.shape[0]):\n",
    "    if flagX==0 and x_filtered[i, 15]==255:\n",
    "        flagX=1\n",
    "        countX+=1\n",
    "    elif flagX==1 and x_filtered[i, 15]==0:\n",
    "        flagX=0\n",
    "    else:\n",
    "        continue\n",
    "print(countX)\n",
    "\n",
    "#thresholding\n",
    "y_filtered = cv2.filter2D(img12, -1, mask_y)\n",
    "for i in range(0, y_filtered.shape[0]):\n",
    "    for j in range(0, y_filtered.shape[1]):\n",
    "        if y_filtered[i, j] > 230:\n",
    "            y_filtered[i, j]=255\n",
    "        else:\n",
    "            y_filtered[i, j]=0   \n",
    "\n",
    "#counting in the x direction\n",
    "countY=0\n",
    "flagY=0\n",
    "for i in range(0, y_filtered.shape[1]):\n",
    "    if flagY==0 and y_filtered[15, i]==255:\n",
    "        flagY=1\n",
    "        countY+=1\n",
    "    elif flagY==1 and y_filtered[15, i]==0:\n",
    "        flagY=0\n",
    "    else:\n",
    "        continue\n",
    "print(countY)\n",
    "print((countX+1)*(countY+1))\n",
    "\n",
    "\n"
   ]
  },
  {
   "cell_type": "markdown",
   "metadata": {},
   "source": [
    "### Task 2: Lotus.jpg RBG histogram"
   ]
  },
  {
   "cell_type": "code",
   "execution_count": null,
   "metadata": {},
   "outputs": [
    {
     "data": {
      "image/png": "[encoded data removed]",
      "text/plain": [
       "<Figure size 432x288 with 1 Axes>"
      ]
     },
     "metadata": {
      "needs_background": "light"
     },
     "output_type": "display_data"
    }
   ],
   "source": [
    "def plotHistogramForRGB(img):\n",
    "    img13 = cv2.imread(img)\n",
    "    color = ('b','g','r')\n",
    "    %matplotlib inline\n",
    "    for i,col in enumerate(color):\n",
    "        histr = cv2.calcHist([img13],[i],None,[256],[0,256])\n",
    "        plt.plot(histr,color = col)\n",
    "        plt.xlim([0,256])\n",
    "\n",
    "    plt.show()\n",
    "plotHistogramForRGB('lotus.jpg')"
   ]
  },
  {
   "cell_type": "markdown",
   "metadata": {},
   "source": [
    "### Threshold for fingerprint.jpg"
   ]
  },
  {
   "cell_type": "code",
   "execution_count": null,
   "metadata": {},
   "outputs": [
    {
     "data": {
      "text/plain": [
       "<BarContainer object of 256 artists>"
      ]
     },
     "execution_count": 17,
     "metadata": {},
     "output_type": "execute_result"
    },
    {
     "data": {
      "image/png": "[encoded data removed]",
      "text/plain": [
       "<Figure size 432x288 with 1 Axes>"
      ]
     },
     "metadata": {
      "needs_background": "light"
     },
     "output_type": "display_data"
    }
   ],
   "source": [
    "img8 = cv2.imread('FingerPrint.jpg', cv2.IMREAD_GRAYSCALE)\n",
    "xAxis = [i for i in range(0, 256)]\n",
    "xAxis=np.asarray(xAxis)\n",
    "freq = np.zeros(256)\n",
    "for i in range(0, img8.shape[0]):\n",
    "    for j in range(0, img8.shape[1]):\n",
    "        freq[img8[i, j]]+=1\n",
    "        if img8[i, j] > 135:\n",
    "            img8[i, j]=255\n",
    "        else:\n",
    "            img8[i, j]=0\n",
    "%matplotlib inline\n",
    "plt.bar(xAxis, freq)\n",
    "# cv2.imshow(\"fingerPrint\",img8)\n",
    "# cv2.waitKey(0)\n",
    "# cv2.destroyAllWindows()"
   ]
  },
  {
   "cell_type": "markdown",
   "metadata": {},
   "source": [
    "### Threshold for text.jpg"
   ]
  },
  {
   "cell_type": "code",
   "execution_count": null,
   "metadata": {},
   "outputs": [],
   "source": [
    "img8 = cv2.imread('text.jpg', cv2.IMREAD_GRAYSCALE)\n",
    "xAxis = [i for i in range(0, 256)]\n",
    "xAxis=np.asarray(xAxis)\n",
    "freq = np.zeros(256)\n",
    "for i in range(0, img8.shape[0]):\n",
    "    for j in range(0, img8.shape[1]):\n",
    "        freq[img8[i, j]]+=1\n",
    "        if img8[i, j] > 75:\n",
    "            img8[i, j]=255\n",
    "        else:\n",
    "            img8[i, j]=0\n",
    "%matplotlib inline\n",
    "plt.bar(xAxis, freq)\n",
    "cv2.imshow(\"telugu text\",img8)\n",
    "cv2.waitKey(0)\n",
    "cv2.destroyAllWindows()"
   ]
  },
  {
   "cell_type": "code",
   "execution_count": null,
   "metadata": {},
   "outputs": [],
   "source": []
  }
 ],
 "metadata": {
  "kernelspec": {
   "display_name": "Python 3",
   "language": "python",
   "name": "python3"
  },
  "language_info": {
   "codemirror_mode": {
    "name": "ipython",
    "version": 3
   },
   "file_extension": ".py",
   "mimetype": "text/x-python",
   "name": "python",
   "nbconvert_exporter": "python",
   "pygments_lexer": "ipython3",
   "version": "3.7.3"
  }
 },
 "nbformat": 4,
 "nbformat_minor": 2
}
